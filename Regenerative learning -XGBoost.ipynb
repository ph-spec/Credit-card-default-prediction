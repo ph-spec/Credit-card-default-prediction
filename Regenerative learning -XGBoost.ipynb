{
  "cells": [
    {
      "cell_type": "markdown",
      "metadata": {
        "id": "view-in-github",
        "colab_type": "text"
      },
      "source": [
        "<a href=\"https://colab.research.google.com/github/ph-spec/Credit-card-default-prediction/blob/main/Regenerative%20learning%20-XGBoost.ipynb\" target=\"_parent\"><img src=\"https://colab.research.google.com/assets/colab-badge.svg\" alt=\"Open In Colab\"/></a>"
      ]
    },
    {
      "cell_type": "markdown",
      "id": "f1ed9320",
      "metadata": {
        "id": "f1ed9320"
      },
      "source": [
        "# IMPORT LIBRARIES\n"
      ]
    },
    {
      "cell_type": "code",
      "execution_count": 1,
      "id": "025d852b",
      "metadata": {
        "id": "025d852b"
      },
      "outputs": [],
      "source": [
        "import pandas as pd\n",
        "import numpy as np"
      ]
    },
    {
      "cell_type": "code",
      "execution_count": 2,
      "id": "9604c8da",
      "metadata": {
        "id": "9604c8da"
      },
      "outputs": [],
      "source": [
        "import matplotlib\n",
        "import matplotlib.pyplot as plt"
      ]
    },
    {
      "cell_type": "code",
      "execution_count": 3,
      "id": "922fa4e0",
      "metadata": {
        "id": "922fa4e0"
      },
      "outputs": [],
      "source": [
        "import seaborn as sns\n",
        "sns.set_style('whitegrid')\n",
        "matplotlib.rcParams['figure.figsize'] = (20.0, 10.0)"
      ]
    },
    {
      "cell_type": "code",
      "execution_count": 4,
      "id": "92100ee7",
      "metadata": {
        "id": "92100ee7"
      },
      "outputs": [],
      "source": [
        "%matplotlib inline\n",
        "\n",
        "import warnings\n",
        "warnings.filterwarnings('ignore')"
      ]
    },
    {
      "cell_type": "code",
      "execution_count": 5,
      "id": "db0416dd",
      "metadata": {
        "id": "db0416dd"
      },
      "outputs": [],
      "source": [
        "import sqlite3\n"
      ]
    },
    {
      "cell_type": "code",
      "execution_count": 6,
      "id": "a26b7d67",
      "metadata": {
        "id": "a26b7d67"
      },
      "outputs": [],
      "source": [
        "import os"
      ]
    },
    {
      "cell_type": "code",
      "execution_count": 7,
      "id": "66524485",
      "metadata": {
        "id": "66524485"
      },
      "outputs": [],
      "source": [
        "from sklearn import tree"
      ]
    },
    {
      "cell_type": "code",
      "execution_count": 8,
      "id": "4b019420",
      "metadata": {
        "id": "4b019420"
      },
      "outputs": [],
      "source": [
        "import scipy"
      ]
    },
    {
      "cell_type": "code",
      "execution_count": 9,
      "id": "2ca8b4af",
      "metadata": {
        "id": "2ca8b4af"
      },
      "outputs": [],
      "source": [
        "from scipy import stats"
      ]
    },
    {
      "cell_type": "code",
      "execution_count": 10,
      "id": "94eab08d",
      "metadata": {
        "id": "94eab08d"
      },
      "outputs": [],
      "source": [
        "from scipy.stats import pearsonr"
      ]
    },
    {
      "cell_type": "code",
      "execution_count": 11,
      "id": "869795f6",
      "metadata": {
        "id": "869795f6"
      },
      "outputs": [],
      "source": [
        "from scipy.stats import ttest_ind"
      ]
    },
    {
      "cell_type": "code",
      "execution_count": 12,
      "id": "75a26f24",
      "metadata": {
        "id": "75a26f24"
      },
      "outputs": [],
      "source": [
        "from sklearn.metrics import classification_report"
      ]
    },
    {
      "cell_type": "code",
      "execution_count": 13,
      "id": "9b3de9b7",
      "metadata": {
        "id": "9b3de9b7"
      },
      "outputs": [],
      "source": [
        "from sklearn.metrics import confusion_matrix\n",
        "from sklearn.preprocessing import MinMaxScaler\n",
        "from sklearn.model_selection import train_test_split"
      ]
    },
    {
      "cell_type": "code",
      "execution_count": 14,
      "id": "cf3b77d6",
      "metadata": {
        "id": "cf3b77d6"
      },
      "outputs": [],
      "source": [
        "from sklearn.preprocessing import StandardScaler, MinMaxScaler, LabelEncoder, OneHotEncoder"
      ]
    },
    {
      "cell_type": "code",
      "execution_count": 15,
      "id": "2d349453",
      "metadata": {
        "id": "2d349453"
      },
      "outputs": [],
      "source": [
        "\n",
        "\n",
        "\n",
        "from sklearn.linear_model import LogisticRegression\n",
        "from sklearn.neighbors import KNeighborsClassifier\n",
        "from sklearn.svm import SVC\n",
        "from sklearn.naive_bayes import CategoricalNB\n",
        "from sklearn.naive_bayes import GaussianNB\n",
        "from sklearn.tree import DecisionTreeClassifier\n",
        "from sklearn.ensemble import GradientBoostingClassifier\n",
        "from sklearn.model_selection import GridSearchCV, RandomizedSearchCV"
      ]
    },
    {
      "cell_type": "code",
      "execution_count": 16,
      "id": "c5587b8a",
      "metadata": {
        "id": "c5587b8a"
      },
      "outputs": [],
      "source": [
        "import requests"
      ]
    },
    {
      "cell_type": "code",
      "execution_count": 17,
      "id": "b99e6284",
      "metadata": {
        "id": "b99e6284"
      },
      "outputs": [],
      "source": [
        "import warnings\n",
        "warnings.filterwarnings('ignore')"
      ]
    },
    {
      "cell_type": "code",
      "execution_count": 18,
      "id": "821b8574",
      "metadata": {
        "id": "821b8574"
      },
      "outputs": [],
      "source": [
        "# machine learning algorithm\n",
        "from sklearn.pipeline import Pipeline\n",
        "from sklearn.preprocessing import StandardScaler\n",
        "from sklearn.impute import SimpleImputer\n",
        "from sklearn.discriminant_analysis import LinearDiscriminantAnalysis\n",
        "from sklearn.model_selection import GridSearchCV\n",
        "from sklearn.linear_model import SGDClassifier\n",
        "from sklearn.neighbors import KNeighborsClassifier\n",
        "from sklearn.metrics import roc_auc_score\n",
        "from sklearn.model_selection import cross_val_score\n",
        "from sklearn.model_selection import cross_validate\n",
        "import numpy as np\n",
        "import xgboost as xgb\n",
        "from sklearn.model_selection import train_test_split\n",
        "from sklearn.metrics import accuracy_score, classification_report, confusion_matrix\n",
        "import joblib\n",
        "import os"
      ]
    },
    {
      "cell_type": "code",
      "execution_count": 19,
      "id": "4806bf85",
      "metadata": {
        "id": "4806bf85"
      },
      "outputs": [],
      "source": [
        "import warnings\n",
        "warnings.filterwarnings('ignore')"
      ]
    },
    {
      "cell_type": "code",
      "execution_count": 20,
      "id": "73ab536c",
      "metadata": {
        "id": "73ab536c"
      },
      "outputs": [],
      "source": [
        "import math\n",
        "from sklearn.preprocessing import RobustScaler\n",
        "from sklearn.model_selection import train_test_split"
      ]
    },
    {
      "cell_type": "code",
      "execution_count": 21,
      "id": "e99bd03d",
      "metadata": {
        "id": "e99bd03d"
      },
      "outputs": [],
      "source": [
        "from sklearn.preprocessing import StandardScaler\n",
        "from sklearn.model_selection import train_test_split\n",
        "from sklearn.linear_model import LogisticRegression\n",
        "from sklearn.model_selection import GridSearchCV\n",
        "\n",
        "from sklearn.metrics import accuracy_score, recall_score, precision_score, f1_score, roc_auc_score, confusion_matrix, roc_curve, auc\n",
        "\n",
        "from sklearn.svm import SVC"
      ]
    },
    {
      "cell_type": "code",
      "execution_count": 22,
      "id": "ba136934",
      "metadata": {
        "id": "ba136934"
      },
      "outputs": [],
      "source": [
        "\n",
        "from sklearn.metrics import classification_report,confusion_matrix"
      ]
    },
    {
      "cell_type": "code",
      "execution_count": 23,
      "id": "21af99e4",
      "metadata": {
        "id": "21af99e4",
        "outputId": "19871a64-1fa4-4fb9-d40f-a73196823015",
        "colab": {
          "base_uri": "https://localhost:8080/"
        }
      },
      "outputs": [
        {
          "output_type": "stream",
          "name": "stdout",
          "text": [
            "Requirement already satisfied: xlrd in /usr/local/lib/python3.10/dist-packages (2.0.1)\n"
          ]
        }
      ],
      "source": [
        "\n",
        "\n",
        "\n",
        "\n",
        "\n",
        "\n",
        "pip install xlrd"
      ]
    },
    {
      "cell_type": "code",
      "source": [
        "pip install xgboost scikit-learn"
      ],
      "metadata": {
        "id": "jP3Ex-fhhiSN",
        "outputId": "939376c9-7f37-4e4a-b99a-222ecc309cad",
        "colab": {
          "base_uri": "https://localhost:8080/"
        }
      },
      "id": "jP3Ex-fhhiSN",
      "execution_count": 24,
      "outputs": [
        {
          "output_type": "stream",
          "name": "stdout",
          "text": [
            "Requirement already satisfied: xgboost in /usr/local/lib/python3.10/dist-packages (2.1.2)\n",
            "Requirement already satisfied: scikit-learn in /usr/local/lib/python3.10/dist-packages (1.5.2)\n",
            "Requirement already satisfied: numpy in /usr/local/lib/python3.10/dist-packages (from xgboost) (1.26.4)\n",
            "Requirement already satisfied: nvidia-nccl-cu12 in /usr/local/lib/python3.10/dist-packages (from xgboost) (2.23.4)\n",
            "Requirement already satisfied: scipy in /usr/local/lib/python3.10/dist-packages (from xgboost) (1.13.1)\n",
            "Requirement already satisfied: joblib>=1.2.0 in /usr/local/lib/python3.10/dist-packages (from scikit-learn) (1.4.2)\n",
            "Requirement already satisfied: threadpoolctl>=3.1.0 in /usr/local/lib/python3.10/dist-packages (from scikit-learn) (3.5.0)\n"
          ]
        }
      ]
    },
    {
      "cell_type": "markdown",
      "source": [
        "UPLOAD DATASET"
      ],
      "metadata": {
        "id": "WzeAJqnDfW1O"
      },
      "id": "WzeAJqnDfW1O"
    },
    {
      "cell_type": "code",
      "execution_count": 25,
      "id": "0641f81a",
      "metadata": {
        "id": "0641f81a",
        "outputId": "b0ab707e-5960-454d-e593-af361e9e3ead",
        "colab": {
          "base_uri": "https://localhost:8080/"
        }
      },
      "outputs": [
        {
          "output_type": "stream",
          "name": "stdout",
          "text": [
            "Drive already mounted at /content/drive; to attempt to forcibly remount, call drive.mount(\"/content/drive\", force_remount=True).\n"
          ]
        }
      ],
      "source": [
        "from google.colab import drive\n",
        "drive.mount('/content/drive')\n"
      ]
    },
    {
      "cell_type": "code",
      "source": [
        "file_path = '/content/drive/My Drive/clean_creditt.csv'"
      ],
      "metadata": {
        "id": "8Xa9iDMcfa0h"
      },
      "id": "8Xa9iDMcfa0h",
      "execution_count": 26,
      "outputs": []
    },
    {
      "cell_type": "code",
      "source": [
        "creditt = pd.read_csv(file_path)"
      ],
      "metadata": {
        "id": "06OZYgr_fap2"
      },
      "id": "06OZYgr_fap2",
      "execution_count": 27,
      "outputs": []
    },
    {
      "cell_type": "code",
      "source": [
        "creditt.head()"
      ],
      "metadata": {
        "id": "YZ758LUagKdw",
        "outputId": "4e858711-0509-4458-fc49-ae13357924ef",
        "colab": {
          "base_uri": "https://localhost:8080/",
          "height": 313
        }
      },
      "id": "YZ758LUagKdw",
      "execution_count": 28,
      "outputs": [
        {
          "output_type": "execute_result",
          "data": {
            "text/plain": [
              "   LIMIT_BAL       SEX  EDUCATION  MARRIAGE       AGE     PAY_0     PAY_2  \\\n",
              "0   2.429412  0.102476   1.572651 -0.173543 -1.780640  0.252642 -2.595633   \n",
              "1   1.746840  0.877320  -0.770964 -0.219406 -0.949367  2.142983  0.282465   \n",
              "2  -1.542358 -2.015420  -0.317153  0.376522  1.216865  0.542801  0.355154   \n",
              "3   1.176750 -1.261416  -0.188585  1.028942 -1.064151  0.620332  0.487053   \n",
              "4   2.246641  0.796269   0.619413  0.285606 -0.561902  0.178322  0.582140   \n",
              "\n",
              "      PAY_3     PAY_4     PAY_5         PAY_6     BILL_AMT1     BILL_AMT6  \\\n",
              "0 -1.139847 -0.395881 -0.348189 -6.747575e-17 -2.520499e-16  3.575868e-16   \n",
              "1  1.051484 -0.843514  0.064914 -1.741849e-16 -2.327730e-16  3.870599e-16   \n",
              "2  0.932195 -1.727748 -0.711480 -1.965510e-16  1.574791e-16 -2.294655e-16   \n",
              "3 -0.299104 -0.863202 -1.064822 -2.581642e-16 -2.845312e-16 -1.332910e-16   \n",
              "4 -0.603861 -1.574217  1.823022  3.351297e-16  6.481815e-17  6.757209e-16   \n",
              "\n",
              "       PAY_AMT1      PAY_AMT2      PAY_AMT3      PAY_AMT4      PAY_AMT5  \\\n",
              "0 -5.998965e-16  1.937085e-16 -2.344146e-16  3.385054e-16  6.457642e-16   \n",
              "1  2.237391e-16  1.502694e-16 -2.041116e-16  2.537898e-16 -1.951670e-16   \n",
              "2  2.579755e-16 -2.529181e-16 -1.854634e-17 -2.395773e-16 -3.307117e-16   \n",
              "3  4.352222e-16 -6.621503e-17 -3.383534e-16  2.100669e-17  2.348469e-16   \n",
              "4  8.132436e-16  4.636610e-16  2.239162e-16  3.900827e-16  2.756459e-16   \n",
              "\n",
              "       PAY_AMT6  DEFAULT_PAYMENT  \n",
              "0  2.261915e-16                0  \n",
              "1  4.167778e-16                0  \n",
              "2  4.086109e-16                0  \n",
              "3  4.610063e-16                0  \n",
              "4 -2.557490e-16                0  "
            ],
            "text/html": [
              "\n",
              "  <div id=\"df-b6b85c2f-0b6c-41ca-b0cb-ba84a807050b\" class=\"colab-df-container\">\n",
              "    <div>\n",
              "<style scoped>\n",
              "    .dataframe tbody tr th:only-of-type {\n",
              "        vertical-align: middle;\n",
              "    }\n",
              "\n",
              "    .dataframe tbody tr th {\n",
              "        vertical-align: top;\n",
              "    }\n",
              "\n",
              "    .dataframe thead th {\n",
              "        text-align: right;\n",
              "    }\n",
              "</style>\n",
              "<table border=\"1\" class=\"dataframe\">\n",
              "  <thead>\n",
              "    <tr style=\"text-align: right;\">\n",
              "      <th></th>\n",
              "      <th>LIMIT_BAL</th>\n",
              "      <th>SEX</th>\n",
              "      <th>EDUCATION</th>\n",
              "      <th>MARRIAGE</th>\n",
              "      <th>AGE</th>\n",
              "      <th>PAY_0</th>\n",
              "      <th>PAY_2</th>\n",
              "      <th>PAY_3</th>\n",
              "      <th>PAY_4</th>\n",
              "      <th>PAY_5</th>\n",
              "      <th>PAY_6</th>\n",
              "      <th>BILL_AMT1</th>\n",
              "      <th>BILL_AMT6</th>\n",
              "      <th>PAY_AMT1</th>\n",
              "      <th>PAY_AMT2</th>\n",
              "      <th>PAY_AMT3</th>\n",
              "      <th>PAY_AMT4</th>\n",
              "      <th>PAY_AMT5</th>\n",
              "      <th>PAY_AMT6</th>\n",
              "      <th>DEFAULT_PAYMENT</th>\n",
              "    </tr>\n",
              "  </thead>\n",
              "  <tbody>\n",
              "    <tr>\n",
              "      <th>0</th>\n",
              "      <td>2.429412</td>\n",
              "      <td>0.102476</td>\n",
              "      <td>1.572651</td>\n",
              "      <td>-0.173543</td>\n",
              "      <td>-1.780640</td>\n",
              "      <td>0.252642</td>\n",
              "      <td>-2.595633</td>\n",
              "      <td>-1.139847</td>\n",
              "      <td>-0.395881</td>\n",
              "      <td>-0.348189</td>\n",
              "      <td>-6.747575e-17</td>\n",
              "      <td>-2.520499e-16</td>\n",
              "      <td>3.575868e-16</td>\n",
              "      <td>-5.998965e-16</td>\n",
              "      <td>1.937085e-16</td>\n",
              "      <td>-2.344146e-16</td>\n",
              "      <td>3.385054e-16</td>\n",
              "      <td>6.457642e-16</td>\n",
              "      <td>2.261915e-16</td>\n",
              "      <td>0</td>\n",
              "    </tr>\n",
              "    <tr>\n",
              "      <th>1</th>\n",
              "      <td>1.746840</td>\n",
              "      <td>0.877320</td>\n",
              "      <td>-0.770964</td>\n",
              "      <td>-0.219406</td>\n",
              "      <td>-0.949367</td>\n",
              "      <td>2.142983</td>\n",
              "      <td>0.282465</td>\n",
              "      <td>1.051484</td>\n",
              "      <td>-0.843514</td>\n",
              "      <td>0.064914</td>\n",
              "      <td>-1.741849e-16</td>\n",
              "      <td>-2.327730e-16</td>\n",
              "      <td>3.870599e-16</td>\n",
              "      <td>2.237391e-16</td>\n",
              "      <td>1.502694e-16</td>\n",
              "      <td>-2.041116e-16</td>\n",
              "      <td>2.537898e-16</td>\n",
              "      <td>-1.951670e-16</td>\n",
              "      <td>4.167778e-16</td>\n",
              "      <td>0</td>\n",
              "    </tr>\n",
              "    <tr>\n",
              "      <th>2</th>\n",
              "      <td>-1.542358</td>\n",
              "      <td>-2.015420</td>\n",
              "      <td>-0.317153</td>\n",
              "      <td>0.376522</td>\n",
              "      <td>1.216865</td>\n",
              "      <td>0.542801</td>\n",
              "      <td>0.355154</td>\n",
              "      <td>0.932195</td>\n",
              "      <td>-1.727748</td>\n",
              "      <td>-0.711480</td>\n",
              "      <td>-1.965510e-16</td>\n",
              "      <td>1.574791e-16</td>\n",
              "      <td>-2.294655e-16</td>\n",
              "      <td>2.579755e-16</td>\n",
              "      <td>-2.529181e-16</td>\n",
              "      <td>-1.854634e-17</td>\n",
              "      <td>-2.395773e-16</td>\n",
              "      <td>-3.307117e-16</td>\n",
              "      <td>4.086109e-16</td>\n",
              "      <td>0</td>\n",
              "    </tr>\n",
              "    <tr>\n",
              "      <th>3</th>\n",
              "      <td>1.176750</td>\n",
              "      <td>-1.261416</td>\n",
              "      <td>-0.188585</td>\n",
              "      <td>1.028942</td>\n",
              "      <td>-1.064151</td>\n",
              "      <td>0.620332</td>\n",
              "      <td>0.487053</td>\n",
              "      <td>-0.299104</td>\n",
              "      <td>-0.863202</td>\n",
              "      <td>-1.064822</td>\n",
              "      <td>-2.581642e-16</td>\n",
              "      <td>-2.845312e-16</td>\n",
              "      <td>-1.332910e-16</td>\n",
              "      <td>4.352222e-16</td>\n",
              "      <td>-6.621503e-17</td>\n",
              "      <td>-3.383534e-16</td>\n",
              "      <td>2.100669e-17</td>\n",
              "      <td>2.348469e-16</td>\n",
              "      <td>4.610063e-16</td>\n",
              "      <td>0</td>\n",
              "    </tr>\n",
              "    <tr>\n",
              "      <th>4</th>\n",
              "      <td>2.246641</td>\n",
              "      <td>0.796269</td>\n",
              "      <td>0.619413</td>\n",
              "      <td>0.285606</td>\n",
              "      <td>-0.561902</td>\n",
              "      <td>0.178322</td>\n",
              "      <td>0.582140</td>\n",
              "      <td>-0.603861</td>\n",
              "      <td>-1.574217</td>\n",
              "      <td>1.823022</td>\n",
              "      <td>3.351297e-16</td>\n",
              "      <td>6.481815e-17</td>\n",
              "      <td>6.757209e-16</td>\n",
              "      <td>8.132436e-16</td>\n",
              "      <td>4.636610e-16</td>\n",
              "      <td>2.239162e-16</td>\n",
              "      <td>3.900827e-16</td>\n",
              "      <td>2.756459e-16</td>\n",
              "      <td>-2.557490e-16</td>\n",
              "      <td>0</td>\n",
              "    </tr>\n",
              "  </tbody>\n",
              "</table>\n",
              "</div>\n",
              "    <div class=\"colab-df-buttons\">\n",
              "\n",
              "  <div class=\"colab-df-container\">\n",
              "    <button class=\"colab-df-convert\" onclick=\"convertToInteractive('df-b6b85c2f-0b6c-41ca-b0cb-ba84a807050b')\"\n",
              "            title=\"Convert this dataframe to an interactive table.\"\n",
              "            style=\"display:none;\">\n",
              "\n",
              "  <svg xmlns=\"http://www.w3.org/2000/svg\" height=\"24px\" viewBox=\"0 -960 960 960\">\n",
              "    <path d=\"M120-120v-720h720v720H120Zm60-500h600v-160H180v160Zm220 220h160v-160H400v160Zm0 220h160v-160H400v160ZM180-400h160v-160H180v160Zm440 0h160v-160H620v160ZM180-180h160v-160H180v160Zm440 0h160v-160H620v160Z\"/>\n",
              "  </svg>\n",
              "    </button>\n",
              "\n",
              "  <style>\n",
              "    .colab-df-container {\n",
              "      display:flex;\n",
              "      gap: 12px;\n",
              "    }\n",
              "\n",
              "    .colab-df-convert {\n",
              "      background-color: #E8F0FE;\n",
              "      border: none;\n",
              "      border-radius: 50%;\n",
              "      cursor: pointer;\n",
              "      display: none;\n",
              "      fill: #1967D2;\n",
              "      height: 32px;\n",
              "      padding: 0 0 0 0;\n",
              "      width: 32px;\n",
              "    }\n",
              "\n",
              "    .colab-df-convert:hover {\n",
              "      background-color: #E2EBFA;\n",
              "      box-shadow: 0px 1px 2px rgba(60, 64, 67, 0.3), 0px 1px 3px 1px rgba(60, 64, 67, 0.15);\n",
              "      fill: #174EA6;\n",
              "    }\n",
              "\n",
              "    .colab-df-buttons div {\n",
              "      margin-bottom: 4px;\n",
              "    }\n",
              "\n",
              "    [theme=dark] .colab-df-convert {\n",
              "      background-color: #3B4455;\n",
              "      fill: #D2E3FC;\n",
              "    }\n",
              "\n",
              "    [theme=dark] .colab-df-convert:hover {\n",
              "      background-color: #434B5C;\n",
              "      box-shadow: 0px 1px 3px 1px rgba(0, 0, 0, 0.15);\n",
              "      filter: drop-shadow(0px 1px 2px rgba(0, 0, 0, 0.3));\n",
              "      fill: #FFFFFF;\n",
              "    }\n",
              "  </style>\n",
              "\n",
              "    <script>\n",
              "      const buttonEl =\n",
              "        document.querySelector('#df-b6b85c2f-0b6c-41ca-b0cb-ba84a807050b button.colab-df-convert');\n",
              "      buttonEl.style.display =\n",
              "        google.colab.kernel.accessAllowed ? 'block' : 'none';\n",
              "\n",
              "      async function convertToInteractive(key) {\n",
              "        const element = document.querySelector('#df-b6b85c2f-0b6c-41ca-b0cb-ba84a807050b');\n",
              "        const dataTable =\n",
              "          await google.colab.kernel.invokeFunction('convertToInteractive',\n",
              "                                                    [key], {});\n",
              "        if (!dataTable) return;\n",
              "\n",
              "        const docLinkHtml = 'Like what you see? Visit the ' +\n",
              "          '<a target=\"_blank\" href=https://colab.research.google.com/notebooks/data_table.ipynb>data table notebook</a>'\n",
              "          + ' to learn more about interactive tables.';\n",
              "        element.innerHTML = '';\n",
              "        dataTable['output_type'] = 'display_data';\n",
              "        await google.colab.output.renderOutput(dataTable, element);\n",
              "        const docLink = document.createElement('div');\n",
              "        docLink.innerHTML = docLinkHtml;\n",
              "        element.appendChild(docLink);\n",
              "      }\n",
              "    </script>\n",
              "  </div>\n",
              "\n",
              "\n",
              "<div id=\"df-504bc4d3-7e55-4a6a-ac62-dd76cdbbf5d1\">\n",
              "  <button class=\"colab-df-quickchart\" onclick=\"quickchart('df-504bc4d3-7e55-4a6a-ac62-dd76cdbbf5d1')\"\n",
              "            title=\"Suggest charts\"\n",
              "            style=\"display:none;\">\n",
              "\n",
              "<svg xmlns=\"http://www.w3.org/2000/svg\" height=\"24px\"viewBox=\"0 0 24 24\"\n",
              "     width=\"24px\">\n",
              "    <g>\n",
              "        <path d=\"M19 3H5c-1.1 0-2 .9-2 2v14c0 1.1.9 2 2 2h14c1.1 0 2-.9 2-2V5c0-1.1-.9-2-2-2zM9 17H7v-7h2v7zm4 0h-2V7h2v10zm4 0h-2v-4h2v4z\"/>\n",
              "    </g>\n",
              "</svg>\n",
              "  </button>\n",
              "\n",
              "<style>\n",
              "  .colab-df-quickchart {\n",
              "      --bg-color: #E8F0FE;\n",
              "      --fill-color: #1967D2;\n",
              "      --hover-bg-color: #E2EBFA;\n",
              "      --hover-fill-color: #174EA6;\n",
              "      --disabled-fill-color: #AAA;\n",
              "      --disabled-bg-color: #DDD;\n",
              "  }\n",
              "\n",
              "  [theme=dark] .colab-df-quickchart {\n",
              "      --bg-color: #3B4455;\n",
              "      --fill-color: #D2E3FC;\n",
              "      --hover-bg-color: #434B5C;\n",
              "      --hover-fill-color: #FFFFFF;\n",
              "      --disabled-bg-color: #3B4455;\n",
              "      --disabled-fill-color: #666;\n",
              "  }\n",
              "\n",
              "  .colab-df-quickchart {\n",
              "    background-color: var(--bg-color);\n",
              "    border: none;\n",
              "    border-radius: 50%;\n",
              "    cursor: pointer;\n",
              "    display: none;\n",
              "    fill: var(--fill-color);\n",
              "    height: 32px;\n",
              "    padding: 0;\n",
              "    width: 32px;\n",
              "  }\n",
              "\n",
              "  .colab-df-quickchart:hover {\n",
              "    background-color: var(--hover-bg-color);\n",
              "    box-shadow: 0 1px 2px rgba(60, 64, 67, 0.3), 0 1px 3px 1px rgba(60, 64, 67, 0.15);\n",
              "    fill: var(--button-hover-fill-color);\n",
              "  }\n",
              "\n",
              "  .colab-df-quickchart-complete:disabled,\n",
              "  .colab-df-quickchart-complete:disabled:hover {\n",
              "    background-color: var(--disabled-bg-color);\n",
              "    fill: var(--disabled-fill-color);\n",
              "    box-shadow: none;\n",
              "  }\n",
              "\n",
              "  .colab-df-spinner {\n",
              "    border: 2px solid var(--fill-color);\n",
              "    border-color: transparent;\n",
              "    border-bottom-color: var(--fill-color);\n",
              "    animation:\n",
              "      spin 1s steps(1) infinite;\n",
              "  }\n",
              "\n",
              "  @keyframes spin {\n",
              "    0% {\n",
              "      border-color: transparent;\n",
              "      border-bottom-color: var(--fill-color);\n",
              "      border-left-color: var(--fill-color);\n",
              "    }\n",
              "    20% {\n",
              "      border-color: transparent;\n",
              "      border-left-color: var(--fill-color);\n",
              "      border-top-color: var(--fill-color);\n",
              "    }\n",
              "    30% {\n",
              "      border-color: transparent;\n",
              "      border-left-color: var(--fill-color);\n",
              "      border-top-color: var(--fill-color);\n",
              "      border-right-color: var(--fill-color);\n",
              "    }\n",
              "    40% {\n",
              "      border-color: transparent;\n",
              "      border-right-color: var(--fill-color);\n",
              "      border-top-color: var(--fill-color);\n",
              "    }\n",
              "    60% {\n",
              "      border-color: transparent;\n",
              "      border-right-color: var(--fill-color);\n",
              "    }\n",
              "    80% {\n",
              "      border-color: transparent;\n",
              "      border-right-color: var(--fill-color);\n",
              "      border-bottom-color: var(--fill-color);\n",
              "    }\n",
              "    90% {\n",
              "      border-color: transparent;\n",
              "      border-bottom-color: var(--fill-color);\n",
              "    }\n",
              "  }\n",
              "</style>\n",
              "\n",
              "  <script>\n",
              "    async function quickchart(key) {\n",
              "      const quickchartButtonEl =\n",
              "        document.querySelector('#' + key + ' button');\n",
              "      quickchartButtonEl.disabled = true;  // To prevent multiple clicks.\n",
              "      quickchartButtonEl.classList.add('colab-df-spinner');\n",
              "      try {\n",
              "        const charts = await google.colab.kernel.invokeFunction(\n",
              "            'suggestCharts', [key], {});\n",
              "      } catch (error) {\n",
              "        console.error('Error during call to suggestCharts:', error);\n",
              "      }\n",
              "      quickchartButtonEl.classList.remove('colab-df-spinner');\n",
              "      quickchartButtonEl.classList.add('colab-df-quickchart-complete');\n",
              "    }\n",
              "    (() => {\n",
              "      let quickchartButtonEl =\n",
              "        document.querySelector('#df-504bc4d3-7e55-4a6a-ac62-dd76cdbbf5d1 button');\n",
              "      quickchartButtonEl.style.display =\n",
              "        google.colab.kernel.accessAllowed ? 'block' : 'none';\n",
              "    })();\n",
              "  </script>\n",
              "</div>\n",
              "\n",
              "    </div>\n",
              "  </div>\n"
            ],
            "application/vnd.google.colaboratory.intrinsic+json": {
              "type": "dataframe",
              "variable_name": "creditt",
              "summary": "{\n  \"name\": \"creditt\",\n  \"rows\": 76800,\n  \"fields\": [\n    {\n      \"column\": \"LIMIT_BAL\",\n      \"properties\": {\n        \"dtype\": \"number\",\n        \"std\": 3.5034326510192604,\n        \"min\": -14.541280081049416,\n        \"max\": 5.596560048525093,\n        \"num_unique_values\": 76800,\n        \"samples\": [\n          -2.5218214312952947,\n          -5.279803812087638,\n          -3.5864253950805383\n        ],\n        \"semantic_type\": \"\",\n        \"description\": \"\"\n      }\n    },\n    {\n      \"column\": \"SEX\",\n      \"properties\": {\n        \"dtype\": \"number\",\n        \"std\": 2.7158314404076833,\n        \"min\": -13.938065254040756,\n        \"max\": 14.260591672506802,\n        \"num_unique_values\": 76800,\n        \"samples\": [\n          -3.8541775518918113,\n          2.02852776001688,\n          -3.858761469891705\n        ],\n        \"semantic_type\": \"\",\n        \"description\": \"\"\n      }\n    },\n    {\n      \"column\": \"EDUCATION\",\n      \"properties\": {\n        \"dtype\": \"number\",\n        \"std\": 0.9773292414119558,\n        \"min\": -4.13400566661336,\n        \"max\": 4.199893194694832,\n        \"num_unique_values\": 76800,\n        \"samples\": [\n          1.1899311737706464,\n          -0.052357047522195,\n          -2.043919538492986\n        ],\n        \"semantic_type\": \"\",\n        \"description\": \"\"\n      }\n    },\n    {\n      \"column\": \"MARRIAGE\",\n      \"properties\": {\n        \"dtype\": \"number\",\n        \"std\": 0.9664452661104491,\n        \"min\": -4.024807778576291,\n        \"max\": 3.73135318975746,\n        \"num_unique_values\": 76800,\n        \"samples\": [\n          -1.63602197618773,\n          0.0204721948039099,\n          -0.972648124952758\n        ],\n        \"semantic_type\": \"\",\n        \"description\": \"\"\n      }\n    },\n    {\n      \"column\": \"AGE\",\n      \"properties\": {\n        \"dtype\": \"number\",\n        \"std\": 0.9671023521432771,\n        \"min\": -3.772403897520184,\n        \"max\": 4.169953608342785,\n        \"num_unique_values\": 76800,\n        \"samples\": [\n          1.0115658808686872,\n          -1.0421722317247435,\n          -0.352867161761803\n        ],\n        \"semantic_type\": \"\",\n        \"description\": \"\"\n      }\n    },\n    {\n      \"column\": \"PAY_0\",\n      \"properties\": {\n        \"dtype\": \"number\",\n        \"std\": 0.9654739805976559,\n        \"min\": -4.334122181525814,\n        \"max\": 4.315891225449077,\n        \"num_unique_values\": 76800,\n        \"samples\": [\n          -0.8886749966336334,\n          -0.2645666386499375,\n          -1.2258016836973196\n        ],\n        \"semantic_type\": \"\",\n        \"description\": \"\"\n      }\n    },\n    {\n      \"column\": \"PAY_2\",\n      \"properties\": {\n        \"dtype\": \"number\",\n        \"std\": 0.9626385319300823,\n        \"min\": -4.212235326111838,\n        \"max\": 4.204465371834125,\n        \"num_unique_values\": 76800,\n        \"samples\": [\n          0.0295739311904621,\n          0.2611517905844468,\n          1.0531962741229508\n        ],\n        \"semantic_type\": \"\",\n        \"description\": \"\"\n      }\n    },\n    {\n      \"column\": \"PAY_3\",\n      \"properties\": {\n        \"dtype\": \"number\",\n        \"std\": 0.9655742890256754,\n        \"min\": -3.7872639310618768,\n        \"max\": 4.755486932735891,\n        \"num_unique_values\": 76800,\n        \"samples\": [\n          0.8014454860333848,\n          0.1071193719003004,\n          -0.7838083839384122\n        ],\n        \"semantic_type\": \"\",\n        \"description\": \"\"\n      }\n    },\n    {\n      \"column\": \"PAY_4\",\n      \"properties\": {\n        \"dtype\": \"number\",\n        \"std\": 0.9625340041906059,\n        \"min\": -4.030083794905861,\n        \"max\": 4.043603738139116,\n        \"num_unique_values\": 76800,\n        \"samples\": [\n          -1.129602014116822,\n          -0.9677466427086698,\n          -0.9445460138064464\n        ],\n        \"semantic_type\": \"\",\n        \"description\": \"\"\n      }\n    },\n    {\n      \"column\": \"PAY_5\",\n      \"properties\": {\n        \"dtype\": \"number\",\n        \"std\": 0.957254160025288,\n        \"min\": -4.078223420431959,\n        \"max\": 3.783268106531244,\n        \"num_unique_values\": 76800,\n        \"samples\": [\n          -1.6243282823484029,\n          0.8163778473395806,\n          -0.6356503666541473\n        ],\n        \"semantic_type\": \"\",\n        \"description\": \"\"\n      }\n    },\n    {\n      \"column\": \"PAY_6\",\n      \"properties\": {\n        \"dtype\": \"number\",\n        \"std\": 6.915999877521269e-16,\n        \"min\": -2.279806891122564e-15,\n        \"max\": 3.503321702826844e-15,\n        \"num_unique_values\": 76800,\n        \"samples\": [\n          -5.040812257948454e-16,\n          1.4839389516583901e-15,\n          -5.703510704378039e-16\n        ],\n        \"semantic_type\": \"\",\n        \"description\": \"\"\n      }\n    },\n    {\n      \"column\": \"BILL_AMT1\",\n      \"properties\": {\n        \"dtype\": \"number\",\n        \"std\": 3.219528658486817e-16,\n        \"min\": -1.6902848983033521e-15,\n        \"max\": 1.6316435210981354e-15,\n        \"num_unique_values\": 76800,\n        \"samples\": [\n          5.85138476593688e-16,\n          -2.0732481395881972e-16,\n          4.219497487052245e-16\n        ],\n        \"semantic_type\": \"\",\n        \"description\": \"\"\n      }\n    },\n    {\n      \"column\": \"BILL_AMT6\",\n      \"properties\": {\n        \"dtype\": \"number\",\n        \"std\": 3.9782266125744955e-16,\n        \"min\": -1.9551236521734418e-15,\n        \"max\": 1.873091162679921e-15,\n        \"num_unique_values\": 76800,\n        \"samples\": [\n          -6.367788283956184e-16,\n          2.518136041304427e-16,\n          -9.610475550030209e-16\n        ],\n        \"semantic_type\": \"\",\n        \"description\": \"\"\n      }\n    },\n    {\n      \"column\": \"PAY_AMT1\",\n      \"properties\": {\n        \"dtype\": \"number\",\n        \"std\": 3.604530297092588e-16,\n        \"min\": -1.4880737002488366e-15,\n        \"max\": 1.820908719266755e-15,\n        \"num_unique_values\": 76800,\n        \"samples\": [\n          -3.2164753429362635e-16,\n          4.150416419930373e-16,\n          -4.4885058113253427e-17\n        ],\n        \"semantic_type\": \"\",\n        \"description\": \"\"\n      }\n    },\n    {\n      \"column\": \"PAY_AMT2\",\n      \"properties\": {\n        \"dtype\": \"number\",\n        \"std\": 2.768198448219655e-16,\n        \"min\": -2.3249335795226558e-15,\n        \"max\": 1.701502529987742e-15,\n        \"num_unique_values\": 76800,\n        \"samples\": [\n          -3.3825243714554564e-16,\n          -9.584760389756699e-17,\n          -3.377696171893977e-17\n        ],\n        \"semantic_type\": \"\",\n        \"description\": \"\"\n      }\n    },\n    {\n      \"column\": \"PAY_AMT3\",\n      \"properties\": {\n        \"dtype\": \"number\",\n        \"std\": 4.1891550489885805e-16,\n        \"min\": -1.4222162633607624e-15,\n        \"max\": 2.5336602224079626e-15,\n        \"num_unique_values\": 76800,\n        \"samples\": [\n          -7.517068694355297e-17,\n          6.31792571773523e-16,\n          -3.732867304335597e-16\n        ],\n        \"semantic_type\": \"\",\n        \"description\": \"\"\n      }\n    },\n    {\n      \"column\": \"PAY_AMT4\",\n      \"properties\": {\n        \"dtype\": \"number\",\n        \"std\": 2.8555764517162037e-16,\n        \"min\": -1.3721668999732112e-15,\n        \"max\": 1.630890974050627e-15,\n        \"num_unique_values\": 76800,\n        \"samples\": [\n          -2.2378561723768e-16,\n          1.8464844546991967e-16,\n          -3.4070026597780536e-16\n        ],\n        \"semantic_type\": \"\",\n        \"description\": \"\"\n      }\n    },\n    {\n      \"column\": \"PAY_AMT5\",\n      \"properties\": {\n        \"dtype\": \"number\",\n        \"std\": 2.7991402061477785e-16,\n        \"min\": -2.3204373144921203e-15,\n        \"max\": 1.4236995707192778e-15,\n        \"num_unique_values\": 76800,\n        \"samples\": [\n          -2.78082581896787e-16,\n          -4.526453366522258e-17,\n          -1.6250778685713667e-16\n        ],\n        \"semantic_type\": \"\",\n        \"description\": \"\"\n      }\n    },\n    {\n      \"column\": \"PAY_AMT6\",\n      \"properties\": {\n        \"dtype\": \"number\",\n        \"std\": 5.285577488147232e-16,\n        \"min\": -2.772224351471004e-15,\n        \"max\": 1.7966528675775983e-15,\n        \"num_unique_values\": 76800,\n        \"samples\": [\n          3.009703664886653e-16,\n          -1.026580047233866e-15,\n          2.950328129617962e-16\n        ],\n        \"semantic_type\": \"\",\n        \"description\": \"\"\n      }\n    },\n    {\n      \"column\": \"DEFAULT_PAYMENT\",\n      \"properties\": {\n        \"dtype\": \"number\",\n        \"std\": 0,\n        \"min\": 0,\n        \"max\": 1,\n        \"num_unique_values\": 2,\n        \"samples\": [\n          1,\n          0\n        ],\n        \"semantic_type\": \"\",\n        \"description\": \"\"\n      }\n    }\n  ]\n}"
            }
          },
          "metadata": {},
          "execution_count": 28
        }
      ]
    },
    {
      "cell_type": "code",
      "source": [
        "X = creditt.drop(columns=['DEFAULT_PAYMENT'])\n",
        "y =creditt['DEFAULT_PAYMENT']"
      ],
      "metadata": {
        "id": "Yf-uhSmZfkbz"
      },
      "id": "Yf-uhSmZfkbz",
      "execution_count": 29,
      "outputs": []
    },
    {
      "cell_type": "code",
      "source": [
        "from sklearn.datasets import make_classification\n",
        "X, y = make_classification(n_samples=48000, n_features=19, n_informative=2, n_redundant=10,\n",
        "                           n_clusters_per_class=1, weights=[0.8, 0.2], flip_y=0, random_state=42)"
      ],
      "metadata": {
        "id": "plw3YjMIfnyz"
      },
      "id": "plw3YjMIfnyz",
      "execution_count": 30,
      "outputs": []
    },
    {
      "cell_type": "code",
      "execution_count": 31,
      "id": "17955a75",
      "metadata": {
        "id": "17955a75"
      },
      "outputs": [],
      "source": [
        "X_train, X_test, y_train, y_test = train_test_split(X, y, test_size=0.2, random_state=42)"
      ]
    },
    {
      "cell_type": "markdown",
      "id": "d64e4ec2",
      "metadata": {
        "id": "d64e4ec2"
      },
      "source": [
        "# Regenerated Learning of Xgboost"
      ]
    },
    {
      "cell_type": "code",
      "execution_count": 32,
      "id": "6156e5e2",
      "metadata": {
        "id": "6156e5e2",
        "outputId": "90dd087d-176d-42ec-c343-7e0531d580e5",
        "colab": {
          "base_uri": "https://localhost:8080/"
        }
      },
      "outputs": [
        {
          "output_type": "stream",
          "name": "stdout",
          "text": [
            "Requirement already satisfied: xgboost in /usr/local/lib/python3.10/dist-packages (2.1.2)\n",
            "Requirement already satisfied: scikit-learn in /usr/local/lib/python3.10/dist-packages (1.5.2)\n",
            "Requirement already satisfied: numpy in /usr/local/lib/python3.10/dist-packages (from xgboost) (1.26.4)\n",
            "Requirement already satisfied: nvidia-nccl-cu12 in /usr/local/lib/python3.10/dist-packages (from xgboost) (2.23.4)\n",
            "Requirement already satisfied: scipy in /usr/local/lib/python3.10/dist-packages (from xgboost) (1.13.1)\n",
            "Requirement already satisfied: joblib>=1.2.0 in /usr/local/lib/python3.10/dist-packages (from scikit-learn) (1.4.2)\n",
            "Requirement already satisfied: threadpoolctl>=3.1.0 in /usr/local/lib/python3.10/dist-packages (from scikit-learn) (3.5.0)\n"
          ]
        }
      ],
      "source": [
        "pip install xgboost scikit-learn\n"
      ]
    },
    {
      "cell_type": "code",
      "execution_count": 33,
      "id": "c102b662",
      "metadata": {
        "id": "c102b662",
        "outputId": "505dd0b9-105f-490c-8a3b-5a6ed7d8a25f",
        "colab": {
          "base_uri": "https://localhost:8080/"
        }
      },
      "outputs": [
        {
          "output_type": "stream",
          "name": "stdout",
          "text": [
            "Index(['LIMIT_BAL', 'SEX', 'EDUCATION', 'MARRIAGE', 'AGE', 'PAY_0', 'PAY_2',\n",
            "       'PAY_3', 'PAY_4', 'PAY_5', 'PAY_6', 'BILL_AMT1', 'BILL_AMT6',\n",
            "       'PAY_AMT1', 'PAY_AMT2', 'PAY_AMT3', 'PAY_AMT4', 'PAY_AMT5', 'PAY_AMT6',\n",
            "       'DEFAULT_PAYMENT'],\n",
            "      dtype='object')\n"
          ]
        }
      ],
      "source": [
        "print(creditt.columns)"
      ]
    },
    {
      "cell_type": "code",
      "execution_count": 38,
      "id": "1ddff657",
      "metadata": {
        "scrolled": true,
        "id": "1ddff657",
        "outputId": "e4c933f1-5ee5-43d3-9de0-a524d0f90018",
        "colab": {
          "base_uri": "https://localhost:8080/",
          "height": 1000
        }
      },
      "outputs": [
        {
          "output_type": "stream",
          "name": "stdout",
          "text": [
            "[0]\ttrain-logloss:0.60070\teval-logloss:0.60105\n",
            "[1]\ttrain-logloss:0.52492\teval-logloss:0.52562\n",
            "[2]\ttrain-logloss:0.46176\teval-logloss:0.46278\n",
            "[3]\ttrain-logloss:0.40833\teval-logloss:0.40965\n",
            "[4]\ttrain-logloss:0.36268\teval-logloss:0.36423\n",
            "[5]\ttrain-logloss:0.32336\teval-logloss:0.32513\n",
            "[6]\ttrain-logloss:0.28927\teval-logloss:0.29129\n",
            "[7]\ttrain-logloss:0.25950\teval-logloss:0.26176\n",
            "[8]\ttrain-logloss:0.23342\teval-logloss:0.23598\n",
            "[9]\ttrain-logloss:0.21047\teval-logloss:0.21319\n",
            "[10]\ttrain-logloss:0.19020\teval-logloss:0.19317\n",
            "[11]\ttrain-logloss:0.17226\teval-logloss:0.17545\n",
            "[12]\ttrain-logloss:0.15636\teval-logloss:0.15969\n",
            "[13]\ttrain-logloss:0.14218\teval-logloss:0.14561\n",
            "[14]\ttrain-logloss:0.12957\teval-logloss:0.13314\n",
            "[15]\ttrain-logloss:0.11827\teval-logloss:0.12199\n",
            "[16]\ttrain-logloss:0.10817\teval-logloss:0.11202\n",
            "[17]\ttrain-logloss:0.09916\teval-logloss:0.10320\n",
            "[18]\ttrain-logloss:0.09103\teval-logloss:0.09525\n",
            "[19]\ttrain-logloss:0.08375\teval-logloss:0.08814\n",
            "[20]\ttrain-logloss:0.07722\teval-logloss:0.08175\n",
            "[21]\ttrain-logloss:0.07131\teval-logloss:0.07602\n",
            "[22]\ttrain-logloss:0.06603\teval-logloss:0.07087\n",
            "[23]\ttrain-logloss:0.06123\teval-logloss:0.06620\n",
            "[24]\ttrain-logloss:0.05692\teval-logloss:0.06204\n",
            "[25]\ttrain-logloss:0.05304\teval-logloss:0.05830\n",
            "[26]\ttrain-logloss:0.04942\teval-logloss:0.05485\n",
            "[27]\ttrain-logloss:0.04623\teval-logloss:0.05177\n",
            "[28]\ttrain-logloss:0.04326\teval-logloss:0.04902\n",
            "[29]\ttrain-logloss:0.04056\teval-logloss:0.04656\n",
            "[30]\ttrain-logloss:0.03811\teval-logloss:0.04431\n",
            "[31]\ttrain-logloss:0.03595\teval-logloss:0.04227\n",
            "[32]\ttrain-logloss:0.03394\teval-logloss:0.04045\n",
            "[33]\ttrain-logloss:0.03216\teval-logloss:0.03885\n",
            "[34]\ttrain-logloss:0.03053\teval-logloss:0.03735\n",
            "[35]\ttrain-logloss:0.02907\teval-logloss:0.03605\n",
            "[36]\ttrain-logloss:0.02773\teval-logloss:0.03487\n",
            "[37]\ttrain-logloss:0.02656\teval-logloss:0.03381\n",
            "[38]\ttrain-logloss:0.02548\teval-logloss:0.03286\n",
            "[39]\ttrain-logloss:0.02449\teval-logloss:0.03198\n",
            "[40]\ttrain-logloss:0.02359\teval-logloss:0.03118\n",
            "[41]\ttrain-logloss:0.02277\teval-logloss:0.03042\n",
            "[42]\ttrain-logloss:0.02205\teval-logloss:0.02977\n",
            "[43]\ttrain-logloss:0.02139\teval-logloss:0.02919\n",
            "[44]\ttrain-logloss:0.02077\teval-logloss:0.02870\n",
            "[45]\ttrain-logloss:0.02023\teval-logloss:0.02824\n",
            "[46]\ttrain-logloss:0.01968\teval-logloss:0.02781\n",
            "[47]\ttrain-logloss:0.01922\teval-logloss:0.02739\n",
            "[48]\ttrain-logloss:0.01882\teval-logloss:0.02705\n",
            "[49]\ttrain-logloss:0.01846\teval-logloss:0.02670\n",
            "[50]\ttrain-logloss:0.01813\teval-logloss:0.02639\n",
            "[51]\ttrain-logloss:0.01784\teval-logloss:0.02608\n",
            "[52]\ttrain-logloss:0.01758\teval-logloss:0.02584\n",
            "[53]\ttrain-logloss:0.01729\teval-logloss:0.02558\n",
            "[54]\ttrain-logloss:0.01704\teval-logloss:0.02533\n",
            "[55]\ttrain-logloss:0.01683\teval-logloss:0.02512\n",
            "[56]\ttrain-logloss:0.01659\teval-logloss:0.02502\n",
            "[57]\ttrain-logloss:0.01641\teval-logloss:0.02488\n",
            "[58]\ttrain-logloss:0.01622\teval-logloss:0.02470\n",
            "[59]\ttrain-logloss:0.01602\teval-logloss:0.02462\n",
            "[60]\ttrain-logloss:0.01588\teval-logloss:0.02452\n",
            "[61]\ttrain-logloss:0.01566\teval-logloss:0.02441\n",
            "[62]\ttrain-logloss:0.01550\teval-logloss:0.02431\n",
            "[63]\ttrain-logloss:0.01532\teval-logloss:0.02422\n",
            "[64]\ttrain-logloss:0.01517\teval-logloss:0.02411\n",
            "[65]\ttrain-logloss:0.01504\teval-logloss:0.02408\n",
            "[66]\ttrain-logloss:0.01491\teval-logloss:0.02399\n",
            "[67]\ttrain-logloss:0.01473\teval-logloss:0.02386\n",
            "[68]\ttrain-logloss:0.01461\teval-logloss:0.02379\n",
            "[69]\ttrain-logloss:0.01450\teval-logloss:0.02373\n",
            "[70]\ttrain-logloss:0.01441\teval-logloss:0.02368\n",
            "[71]\ttrain-logloss:0.01430\teval-logloss:0.02362\n",
            "[72]\ttrain-logloss:0.01417\teval-logloss:0.02353\n",
            "[73]\ttrain-logloss:0.01406\teval-logloss:0.02347\n",
            "[74]\ttrain-logloss:0.01401\teval-logloss:0.02345\n",
            "[75]\ttrain-logloss:0.01391\teval-logloss:0.02341\n",
            "[76]\ttrain-logloss:0.01378\teval-logloss:0.02336\n",
            "[77]\ttrain-logloss:0.01371\teval-logloss:0.02332\n",
            "[78]\ttrain-logloss:0.01360\teval-logloss:0.02326\n",
            "[79]\ttrain-logloss:0.01352\teval-logloss:0.02320\n",
            "[80]\ttrain-logloss:0.01343\teval-logloss:0.02317\n",
            "[81]\ttrain-logloss:0.01335\teval-logloss:0.02313\n",
            "[82]\ttrain-logloss:0.01329\teval-logloss:0.02310\n",
            "[83]\ttrain-logloss:0.01318\teval-logloss:0.02313\n",
            "[84]\ttrain-logloss:0.01305\teval-logloss:0.02307\n",
            "[85]\ttrain-logloss:0.01303\teval-logloss:0.02307\n",
            "[86]\ttrain-logloss:0.01285\teval-logloss:0.02304\n",
            "[87]\ttrain-logloss:0.01272\teval-logloss:0.02296\n",
            "[88]\ttrain-logloss:0.01267\teval-logloss:0.02294\n",
            "[89]\ttrain-logloss:0.01254\teval-logloss:0.02290\n",
            "[90]\ttrain-logloss:0.01237\teval-logloss:0.02285\n",
            "[91]\ttrain-logloss:0.01230\teval-logloss:0.02282\n",
            "[92]\ttrain-logloss:0.01208\teval-logloss:0.02269\n",
            "[93]\ttrain-logloss:0.01202\teval-logloss:0.02265\n",
            "[94]\ttrain-logloss:0.01186\teval-logloss:0.02271\n",
            "[95]\ttrain-logloss:0.01168\teval-logloss:0.02261\n",
            "[96]\ttrain-logloss:0.01150\teval-logloss:0.02256\n",
            "[97]\ttrain-logloss:0.01145\teval-logloss:0.02255\n",
            "[98]\ttrain-logloss:0.01130\teval-logloss:0.02249\n",
            "[99]\ttrain-logloss:0.01119\teval-logloss:0.02251\n",
            "Model saved to /root/Desktop/xgboost_model.joblib\n",
            "Updated model saved to: /content/drive/My Drive/XGBoost_Models/updated_model.xgb\n",
            "Updated Model Accuracy: 0.9917\n",
            "Updated Model precision: 0.9918\n",
            "Updated Model recall: 0.9915\n",
            "Updated Model f1: 0.9916\n",
            "Classification Report:\n",
            "              precision    recall  f1-score   support\n",
            "\n",
            "           0       0.99      0.99      0.99      7754\n",
            "           1       0.99      0.99      0.99      7606\n",
            "\n",
            "    accuracy                           0.99     15360\n",
            "   macro avg       0.99      0.99      0.99     15360\n",
            "weighted avg       0.99      0.99      0.99     15360\n",
            "\n",
            "Confusion Matrix:\n",
            "[[7692   62]\n",
            " [  65 7541]]\n"
          ]
        },
        {
          "output_type": "display_data",
          "data": {
            "text/plain": [
              "<Figure size 800x600 with 1 Axes>"
            ],
            "image/png": "[encoded data removed]"
          },
          "metadata": {}
        }
      ],
      "source": [
        "\n",
        "\n",
        "X = creditt.drop('DEFAULT_PAYMENT', axis=1)\n",
        "y = creditt['DEFAULT_PAYMENT']\n",
        "\n",
        "# Split into training and testing sets\n",
        "X_train, X_test, y_train, y_test = train_test_split(X, y, test_size=0.2, random_state=42)\n",
        "\n",
        "dtrain = xgb.DMatrix(X_train, label=y_train)\n",
        "dtest = xgb.DMatrix(X_test, label=y_test)\n",
        "\n",
        "# Define parameters\n",
        "params = {\n",
        "    'objective': 'binary:logistic',\n",
        "    'eval_metric': 'logloss',\n",
        "    'max_depth': 6,\n",
        "    'learning_rate': 0.1,\n",
        "    'n_estimators': 100\n",
        "}\n",
        "\n",
        "\n",
        "evals = [(dtrain, 'train'), (dtest, 'eval')]\n",
        "evals_result = {}\n",
        "\n",
        "\n",
        "model = xgb.train(params, dtrain, num_boost_round=100, evals=evals, evals_result=evals_result)\n",
        "\n",
        "\n",
        "desktop_path = os.path.join(os.path.expanduser(\"~\"), \"Desktop\", \"xgboost_model.joblib\")\n",
        "\n",
        "# Verify and create the directory if necessary\n",
        "if not os.path.exists(os.path.dirname(desktop_path)):\n",
        "    print(f\"Directory does not exist: {os.path.dirname(desktop_path)}\")\n",
        "    # Optionally create the directory (unlikely for desktop)\n",
        "    os.makedirs(os.path.dirname(desktop_path), exist_ok=True)\n",
        "\n",
        "# Save the model using joblib\n",
        "try:\n",
        "    joblib.dump(model, desktop_path)\n",
        "    print(f\"Model saved to {desktop_path}\")\n",
        "except Exception as e:\n",
        "    print(f\"Error saving model: {e}\")\n",
        "\n",
        "\n",
        "new_data = pd.DataFrame(np.random.rand(100, X.shape[1]), columns=[f'feature_{i}' for i in range(X.shape[1])])\n",
        "new_labels = np.random.randint(0, 2, size=100)\n",
        "\n",
        "\n",
        "new_data = new_data.reindex(columns=X.columns)\n",
        "\n",
        "# Create DMatrix for new data\n",
        "new_dtrain = xgb.DMatrix(new_data, label=new_labels)\n",
        "\n",
        "# Update the model with new data\n",
        "updated_model = xgb.train(params, new_dtrain, xgb_model=model, num_boost_round=50)\n",
        "\n",
        "\n",
        "# Define the folder in Google Drive to save the model\n",
        "regen_folder = '/content/drive/My Drive/XGBoost_Models'\n",
        "os.makedirs(regen_folder, exist_ok=True)\n",
        "\n",
        "# Save the updated model to Google Drive\n",
        "updated_model_path = os.path.join(regen_folder, \"updated_model.xgb\")\n",
        "model.save_model(updated_model_path)\n",
        "print(f\"Updated model saved to: {updated_model_path}\")\n",
        "\n",
        "# Predict and evaluate on test set\n",
        "dtest = xgb.DMatrix(X_test)\n",
        "y_pred = updated_model.predict(dtest)\n",
        "y_pred_binary = [1 if p > 0.5 else 0 for p in y_pred]\n",
        "\n",
        "accuracy = accuracy_score(y_test, y_pred_binary)\n",
        "print(f\"Updated Model Accuracy: {accuracy:.4f}\")\n",
        "\n",
        "precision= precision_score(y_test, y_pred_binary)\n",
        "print(f\"Updated Model precision: {precision:.4f}\")\n",
        "\n",
        "recall = recall_score(y_test, y_pred_binary)\n",
        "print(f\"Updated Model recall: {recall:.4f}\")\n",
        "\n",
        "f1 = f1_score(y_test, y_pred_binary)\n",
        "print(f\"Updated Model f1: {f1:.4f}\")\n",
        "\n",
        "\n",
        "print(\"Classification Report:\")\n",
        "print(classification_report(y_test, y_pred_binary))\n",
        "print(\"Confusion Matrix:\")\n",
        "print(confusion_matrix(y_test, y_pred_binary))\n",
        "\n",
        "# Calculate the confusion matrix\n",
        "cm = confusion_matrix(y_test, y_pred_binary)\n",
        "\n",
        "# Plotting the confusion matrix using seaborn\n",
        "plt.figure(figsize=(8, 6))\n",
        "sns.heatmap(cm, annot=True, fmt='d', cmap='Blues', cbar=False)\n",
        "plt.xlabel('Predicted Labels')\n",
        "plt.ylabel('True Labels')\n",
        "plt.title('Confusion Matrix')\n",
        "plt.show()"
      ]
    },
    {
      "cell_type": "code",
      "execution_count": 39,
      "id": "37bab321",
      "metadata": {
        "id": "37bab321",
        "outputId": "6cb6d01b-a6fa-46a2-d5a8-4b2488cfa34b",
        "colab": {
          "base_uri": "https://localhost:8080/",
          "height": 564
        }
      },
      "outputs": [
        {
          "output_type": "display_data",
          "data": {
            "text/plain": [
              "<Figure size 1000x600 with 1 Axes>"
            ],
            "image/png": "[encoded data removed]"
          },
          "metadata": {}
        }
      ],
      "source": [
        "import matplotlib.pyplot as plt\n",
        "\n",
        "if 'train' in evals_result and 'eval' in evals_result:\n",
        "    results = evals_result\n",
        "\n",
        "    # Plot log loss\n",
        "    epochs = len(results['train']['logloss'])\n",
        "\n",
        "    plt.figure(figsize=(10, 6))\n",
        "    plt.plot(range(epochs), results['train']['logloss'], label='Train Log Loss')\n",
        "    plt.plot(range(epochs), results['eval']['logloss'], label='Validation Log Loss')\n",
        "    plt.xlabel('Boosting Rounds')\n",
        "    plt.ylabel('Log Loss')\n",
        "    plt.title('Training and Validation Log Loss')\n",
        "    plt.legend()\n",
        "    plt.show()\n",
        "else:\n",
        "    print(\"No evaluation results available.\")"
      ]
    },
    {
      "cell_type": "code",
      "execution_count": 40,
      "id": "d6c1d51c",
      "metadata": {
        "id": "d6c1d51c",
        "outputId": "afcdd704-6e6c-4c65-e4ae-df69a3663996",
        "colab": {
          "base_uri": "https://localhost:8080/"
        }
      },
      "outputs": [
        {
          "output_type": "stream",
          "name": "stdout",
          "text": [
            "Original Accuracy: 0.9917\n"
          ]
        }
      ],
      "source": [
        "original_accuracy = accuracy_score(y_test, np.round(y_pred))\n",
        "print(f'Original Accuracy: {original_accuracy:.4f}')"
      ]
    },
    {
      "cell_type": "markdown",
      "id": "60eb19a4",
      "metadata": {
        "id": "60eb19a4"
      },
      "source": [
        "# ROC CURVE"
      ]
    },
    {
      "cell_type": "code",
      "execution_count": 41,
      "id": "adaa680e",
      "metadata": {
        "scrolled": true,
        "id": "adaa680e",
        "outputId": "93f76693-5918-4856-b57d-35ff3180cfa0",
        "colab": {
          "base_uri": "https://localhost:8080/",
          "height": 564
        }
      },
      "outputs": [
        {
          "output_type": "display_data",
          "data": {
            "text/plain": [
              "<Figure size 800x600 with 1 Axes>"
            ],
            "image/png": "[encoded data removed]"
          },
          "metadata": {}
        }
      ],
      "source": [
        "y_pred_prob = model.predict(dtest)\n",
        "\n",
        "fpr, tpr, thresholds = roc_curve(y_test, y_pred_prob)\n",
        "\n",
        "# Calculate AUC (Area Under the Curve)\n",
        "roc_auc = auc(fpr, tpr)\n",
        "\n",
        "# Plot the ROC curve\n",
        "plt.figure(figsize=(8, 6))\n",
        "plt.plot(fpr, tpr, color='blue', lw=2, label=f'ROC curve (area = {roc_auc:.2f})')\n",
        "plt.plot([0, 1], [0, 1], color='gray', linestyle='--')  # Diagonal line\n",
        "plt.xlim([0.0, 1.0])\n",
        "plt.ylim([0.0, 1.05])\n",
        "plt.xlabel('False Positive Rate')\n",
        "plt.ylabel('True Positive Rate')\n",
        "plt.title('Receiver Operating Characteristic (ROC) Curve')\n",
        "plt.legend(loc=\"lower right\")\n",
        "plt.show()"
      ]
    },
    {
      "cell_type": "markdown",
      "id": "7e81d81b",
      "metadata": {
        "id": "7e81d81b"
      },
      "source": [
        "# Noise Injection"
      ]
    },
    {
      "cell_type": "code",
      "execution_count": 42,
      "id": "0888f9fd",
      "metadata": {
        "scrolled": true,
        "id": "0888f9fd",
        "outputId": "f3f694d1-99f5-4228-ff28-4197c513d32e",
        "colab": {
          "base_uri": "https://localhost:8080/",
          "height": 562
        }
      },
      "outputs": [
        {
          "output_type": "stream",
          "name": "stdout",
          "text": [
            "Noisy Accuracy: 0.9838\n"
          ]
        },
        {
          "output_type": "display_data",
          "data": {
            "text/plain": [
              "<Figure size 1000x600 with 1 Axes>"
            ],
            "image/png": "[encoded data removed]"
          },
          "metadata": {}
        }
      ],
      "source": [
        "# Introduce noise into the test data\n",
        "def add_noise(X, noise_level=0.01):\n",
        "    noise = np.random.normal(0, noise_level, X.shape)\n",
        "    return X + noise\n",
        "\n",
        "# Create noisy test data\n",
        "X_test_noisy = add_noise(X_test, noise_level=0.05)\n",
        "dtest_noisy = xgb.DMatrix(X_test_noisy, label=y_test)\n",
        "\n",
        "# Make predictions on the noisy test data\n",
        "y_pred_noisy = model.predict(dtest_noisy)\n",
        "noisy_accuracy = accuracy_score(y_test, np.round(y_pred_noisy))\n",
        "print(f'Noisy Accuracy: {noisy_accuracy:.4f}')\n",
        "\n",
        "# Plot results\n",
        "plt.figure(figsize=(10, 6))\n",
        "plt.bar(['Original Accuracy', 'Noisy Accuracy'], [original_accuracy, noisy_accuracy], color=['blue', 'red'])\n",
        "plt.ylabel('Accuracy')\n",
        "plt.title('Model Accuracy on Original vs Noisy Data')\n",
        "plt.show()"
      ]
    },
    {
      "cell_type": "markdown",
      "id": "38bbf7d9",
      "metadata": {
        "id": "38bbf7d9"
      },
      "source": [
        "# Feature Importance"
      ]
    },
    {
      "cell_type": "code",
      "execution_count": 43,
      "id": "3b07e50b",
      "metadata": {
        "scrolled": true,
        "id": "3b07e50b",
        "outputId": "ce6dc693-cd03-4cc6-f0f6-2f98af3a0c47",
        "colab": {
          "base_uri": "https://localhost:8080/",
          "height": 1000
        }
      },
      "outputs": [
        {
          "output_type": "stream",
          "name": "stdout",
          "text": [
            "      Feature  Score\n",
            "1         SEX  472.0\n",
            "0   LIMIT_BAL  407.0\n",
            "8       PAY_4  161.0\n",
            "5       PAY_0  146.0\n",
            "14   PAY_AMT2  138.0\n",
            "4         AGE  136.0\n",
            "10      PAY_6  134.0\n",
            "3    MARRIAGE  132.0\n",
            "9       PAY_5  130.0\n",
            "17   PAY_AMT5  125.0\n",
            "2   EDUCATION  124.0\n",
            "18   PAY_AMT6  124.0\n",
            "6       PAY_2  122.0\n",
            "7       PAY_3  119.0\n",
            "11  BILL_AMT1  118.0\n",
            "12  BILL_AMT6  106.0\n",
            "13   PAY_AMT1  103.0\n",
            "16   PAY_AMT4  100.0\n",
            "15   PAY_AMT3   79.0\n"
          ]
        },
        {
          "output_type": "display_data",
          "data": {
            "text/plain": [
              "<Figure size 1200x800 with 1 Axes>"
            ],
            "image/png": "[encoded data removed]"
          },
          "metadata": {}
        }
      ],
      "source": [
        "importance = model.get_score(importance_type='weight')\n",
        "\n",
        "# Convert to DataFrame for easy manipulation\n",
        "importance_df = pd.DataFrame(list(importance.items()), columns=['Feature', 'Score'])\n",
        "importance_df = importance_df.sort_values(by='Score', ascending=False)\n",
        "\n",
        "# Display feature importance scores\n",
        "print(importance_df)\n",
        "\n",
        "# Optional: Plotting the feature importances\n",
        "def plot_feature_importances(importance_df):\n",
        "    plt.figure(figsize=(12, 8))\n",
        "    plt.barh(importance_df['Feature'], importance_df['Score'], color='skyblue')\n",
        "    plt.xlabel('Score')\n",
        "    plt.title('Feature Importances')\n",
        "    plt.gca().invert_yaxis()  # Highest score at the top\n",
        "    plt.show()\n",
        "\n",
        "plot_feature_importances(importance_df)\n",
        "\n"
      ]
    },
    {
      "cell_type": "code",
      "execution_count": 43,
      "id": "8aaf67f2",
      "metadata": {
        "id": "8aaf67f2"
      },
      "outputs": [],
      "source": []
    }
  ],
  "metadata": {
    "kernelspec": {
      "display_name": "Python 3 (ipykernel)",
      "language": "python",
      "name": "python3"
    },
    "language_info": {
      "codemirror_mode": {
        "name": "ipython",
        "version": 3
      },
      "file_extension": ".py",
      "mimetype": "text/x-python",
      "name": "python",
      "nbconvert_exporter": "python",
      "pygments_lexer": "ipython3",
      "version": "3.11.7"
    },
    "colab": {
      "provenance": [],
      "include_colab_link": true
    }
  },
  "nbformat": 4,
  "nbformat_minor": 5
}