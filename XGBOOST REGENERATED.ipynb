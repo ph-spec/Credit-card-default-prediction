{
 "cells": [
  {
   "cell_type": "markdown",
   "id": "f1ed9320",
   "metadata": {},
   "source": [
    "# IMPORT LIBRARIES\n"
   ]
  },
  {
   "cell_type": "code",
   "execution_count": 1,
   "id": "025d852b",
   "metadata": {},
   "outputs": [],
   "source": [
    "import pandas as pd\n",
    "import numpy as np "
   ]
  },
  {
   "cell_type": "code",
   "execution_count": 2,
   "id": "9604c8da",
   "metadata": {},
   "outputs": [],
   "source": [
    "import matplotlib\n",
    "import matplotlib.pyplot as plt"
   ]
  },
  {
   "cell_type": "code",
   "execution_count": 3,
   "id": "922fa4e0",
   "metadata": {},
   "outputs": [],
   "source": [
    "import seaborn as sns\n",
    "sns.set_style('whitegrid')\n",
    "matplotlib.rcParams['figure.figsize'] = (20.0, 10.0)"
   ]
  },
  {
   "cell_type": "code",
   "execution_count": 4,
   "id": "92100ee7",
   "metadata": {},
   "outputs": [],
   "source": [
    "%matplotlib inline\n",
    "\n",
    "import warnings\n",
    "warnings.filterwarnings('ignore')"
   ]
  },
  {
   "cell_type": "code",
   "execution_count": 5,
   "id": "db0416dd",
   "metadata": {},
   "outputs": [],
   "source": [
    "import sqlite3\n"
   ]
  },
  {
   "cell_type": "code",
   "execution_count": 6,
   "id": "a26b7d67",
   "metadata": {},
   "outputs": [],
   "source": [
    "import os"
   ]
  },
  {
   "cell_type": "code",
   "execution_count": 7,
   "id": "66524485",
   "metadata": {},
   "outputs": [],
   "source": [
    "from sklearn import tree"
   ]
  },
  {
   "cell_type": "code",
   "execution_count": 8,
   "id": "4b019420",
   "metadata": {},
   "outputs": [],
   "source": [
    "import scipy"
   ]
  },
  {
   "cell_type": "code",
   "execution_count": 9,
   "id": "2ca8b4af",
   "metadata": {},
   "outputs": [],
   "source": [
    "from scipy import stats"
   ]
  },
  {
   "cell_type": "code",
   "execution_count": 10,
   "id": "94eab08d",
   "metadata": {},
   "outputs": [],
   "source": [
    "from scipy.stats import pearsonr"
   ]
  },
  {
   "cell_type": "code",
   "execution_count": 11,
   "id": "869795f6",
   "metadata": {},
   "outputs": [],
   "source": [
    "from scipy.stats import ttest_ind"
   ]
  },
  {
   "cell_type": "code",
   "execution_count": 12,
   "id": "75a26f24",
   "metadata": {},
   "outputs": [],
   "source": [
    "from sklearn.metrics import classification_report"
   ]
  },
  {
   "cell_type": "code",
   "execution_count": 13,
   "id": "9b3de9b7",
   "metadata": {},
   "outputs": [],
   "source": [
    "from sklearn.metrics import confusion_matrix\n",
    "from sklearn.preprocessing import MinMaxScaler\n",
    "from sklearn.model_selection import train_test_split"
   ]
  },
  {
   "cell_type": "code",
   "execution_count": 14,
   "id": "cf3b77d6",
   "metadata": {},
   "outputs": [],
   "source": [
    "from sklearn.preprocessing import StandardScaler, MinMaxScaler, LabelEncoder, OneHotEncoder"
   ]
  },
  {
   "cell_type": "code",
   "execution_count": 15,
   "id": "2d349453",
   "metadata": {},
   "outputs": [],
   "source": [
    "from sklearn.linear_model import LogisticRegression\n",
    "from sklearn.neighbors import KNeighborsClassifier\n",
    "from sklearn.svm import SVC\n",
    "from sklearn.naive_bayes import CategoricalNB\n",
    "from sklearn.naive_bayes import GaussianNB\n",
    "from sklearn.tree import DecisionTreeClassifier\n",
    "from sklearn.ensemble import GradientBoostingClassifier\n",
    "from sklearn.model_selection import GridSearchCV, RandomizedSearchCV"
   ]
  },
  {
   "cell_type": "code",
   "execution_count": 16,
   "id": "c5587b8a",
   "metadata": {},
   "outputs": [],
   "source": [
    "import requests"
   ]
  },
  {
   "cell_type": "code",
   "execution_count": 17,
   "id": "b99e6284",
   "metadata": {},
   "outputs": [],
   "source": [
    "import warnings\n",
    "warnings.filterwarnings('ignore')"
   ]
  },
  {
   "cell_type": "code",
   "execution_count": 18,
   "id": "821b8574",
   "metadata": {},
   "outputs": [],
   "source": [
    "# machine learning algorithm\n",
    "from sklearn.pipeline import Pipeline\n",
    "from sklearn.preprocessing import StandardScaler\n",
    "from sklearn.impute import SimpleImputer\n",
    "from sklearn.discriminant_analysis import LinearDiscriminantAnalysis\n",
    "from sklearn.model_selection import GridSearchCV\n",
    "from sklearn.linear_model import SGDClassifier\n",
    "from sklearn.neighbors import KNeighborsClassifier\n",
    "from sklearn.metrics import roc_auc_score"
   ]
  },
  {
   "cell_type": "code",
   "execution_count": 19,
   "id": "4806bf85",
   "metadata": {},
   "outputs": [],
   "source": [
    "import warnings\n",
    "warnings.filterwarnings('ignore')"
   ]
  },
  {
   "cell_type": "code",
   "execution_count": 20,
   "id": "73ab536c",
   "metadata": {},
   "outputs": [],
   "source": [
    "import math\n",
    "from sklearn.preprocessing import RobustScaler\n",
    "from sklearn.model_selection import train_test_split"
   ]
  },
  {
   "cell_type": "code",
   "execution_count": 21,
   "id": "e99bd03d",
   "metadata": {},
   "outputs": [],
   "source": [
    "from sklearn.preprocessing import StandardScaler\n",
    "from sklearn.model_selection import train_test_split\n",
    "from sklearn.linear_model import LogisticRegression\n",
    "from sklearn.model_selection import GridSearchCV\n",
    "\n",
    "from sklearn.metrics import accuracy_score, recall_score, precision_score, f1_score, roc_auc_score, confusion_matrix, roc_curve, auc\n",
    "\n",
    "from sklearn.svm import SVC"
   ]
  },
  {
   "cell_type": "code",
   "execution_count": 22,
   "id": "ba136934",
   "metadata": {},
   "outputs": [],
   "source": [
    "# evaluation on test data\n",
    "from sklearn.metrics import classification_report,confusion_matrix"
   ]
  },
  {
   "cell_type": "code",
   "execution_count": 23,
   "id": "21af99e4",
   "metadata": {},
   "outputs": [
    {
     "name": "stdout",
     "output_type": "stream",
     "text": [
      "Requirement already satisfied: xlrd in c:\\users\\shedu\\anaconda3\\lib\\site-packages (2.0.1)Note: you may need to restart the kernel to use updated packages.\n",
      "\n"
     ]
    }
   ],
   "source": [
    "pip install xlrd"
   ]
  },
  {
   "cell_type": "code",
   "execution_count": 24,
   "id": "a2be06b1",
   "metadata": {},
   "outputs": [],
   "source": [
    "#DATA CLEANING AND FEATURE ENGINEERING"
   ]
  },
  {
   "cell_type": "code",
   "execution_count": 25,
   "id": "0641f81a",
   "metadata": {},
   "outputs": [],
   "source": [
    "creditt = pd.read_csv(r\"C:\\Users\\shedu\\Downloads\\clean_creditt.csv\")"
   ]
  },
  {
   "cell_type": "code",
   "execution_count": 26,
   "id": "17955a75",
   "metadata": {},
   "outputs": [
    {
     "data": {
      "text/html": [
       "<div>\n",
       "<style scoped>\n",
       "    .dataframe tbody tr th:only-of-type {\n",
       "        vertical-align: middle;\n",
       "    }\n",
       "\n",
       "    .dataframe tbody tr th {\n",
       "        vertical-align: top;\n",
       "    }\n",
       "\n",
       "    .dataframe thead th {\n",
       "        text-align: right;\n",
       "    }\n",
       "</style>\n",
       "<table border=\"1\" class=\"dataframe\">\n",
       "  <thead>\n",
       "    <tr style=\"text-align: right;\">\n",
       "      <th></th>\n",
       "      <th>LIMIT_BAL</th>\n",
       "      <th>SEX</th>\n",
       "      <th>EDUCATION</th>\n",
       "      <th>MARRIAGE</th>\n",
       "      <th>AGE</th>\n",
       "      <th>PAY_0</th>\n",
       "      <th>PAY_2</th>\n",
       "      <th>PAY_3</th>\n",
       "      <th>PAY_4</th>\n",
       "      <th>PAY_5</th>\n",
       "      <th>PAY_6</th>\n",
       "      <th>BILL_AMT1</th>\n",
       "      <th>BILL_AMT6</th>\n",
       "      <th>PAY_AMT1</th>\n",
       "      <th>PAY_AMT2</th>\n",
       "      <th>PAY_AMT3</th>\n",
       "      <th>PAY_AMT4</th>\n",
       "      <th>PAY_AMT5</th>\n",
       "      <th>PAY_AMT6</th>\n",
       "      <th>DEFAULT_PAYMENT</th>\n",
       "    </tr>\n",
       "  </thead>\n",
       "  <tbody>\n",
       "    <tr>\n",
       "      <th>0</th>\n",
       "      <td>2.429412</td>\n",
       "      <td>0.102476</td>\n",
       "      <td>1.572651</td>\n",
       "      <td>-0.173543</td>\n",
       "      <td>-1.780640</td>\n",
       "      <td>0.252642</td>\n",
       "      <td>-2.595633</td>\n",
       "      <td>-1.139847</td>\n",
       "      <td>-0.395881</td>\n",
       "      <td>-0.348189</td>\n",
       "      <td>-2.480000e-16</td>\n",
       "      <td>8.639786e-17</td>\n",
       "      <td>4.720693e-18</td>\n",
       "      <td>7.972401e-17</td>\n",
       "      <td>1.860370e-16</td>\n",
       "      <td>-2.530000e-16</td>\n",
       "      <td>-3.590000e-16</td>\n",
       "      <td>-1.610000e-16</td>\n",
       "      <td>-4.360000e-16</td>\n",
       "      <td>0</td>\n",
       "    </tr>\n",
       "    <tr>\n",
       "      <th>1</th>\n",
       "      <td>1.746840</td>\n",
       "      <td>0.877320</td>\n",
       "      <td>-0.770964</td>\n",
       "      <td>-0.219406</td>\n",
       "      <td>-0.949367</td>\n",
       "      <td>2.142983</td>\n",
       "      <td>0.282465</td>\n",
       "      <td>1.051484</td>\n",
       "      <td>-0.843514</td>\n",
       "      <td>0.064914</td>\n",
       "      <td>-4.090000e-17</td>\n",
       "      <td>1.719941e-16</td>\n",
       "      <td>-1.220000e-16</td>\n",
       "      <td>-2.000000e-16</td>\n",
       "      <td>2.716555e-17</td>\n",
       "      <td>-1.510000e-16</td>\n",
       "      <td>1.962610e-16</td>\n",
       "      <td>-1.610000e-16</td>\n",
       "      <td>3.962396e-16</td>\n",
       "      <td>0</td>\n",
       "    </tr>\n",
       "    <tr>\n",
       "      <th>2</th>\n",
       "      <td>-1.542358</td>\n",
       "      <td>-2.015420</td>\n",
       "      <td>-0.317153</td>\n",
       "      <td>0.376522</td>\n",
       "      <td>1.216865</td>\n",
       "      <td>0.542801</td>\n",
       "      <td>0.355154</td>\n",
       "      <td>0.932195</td>\n",
       "      <td>-1.727748</td>\n",
       "      <td>-0.711480</td>\n",
       "      <td>2.488097e-16</td>\n",
       "      <td>-2.370000e-16</td>\n",
       "      <td>1.822177e-16</td>\n",
       "      <td>2.991845e-18</td>\n",
       "      <td>-1.500000e-16</td>\n",
       "      <td>-1.020000e-16</td>\n",
       "      <td>-2.580000e-17</td>\n",
       "      <td>1.723716e-16</td>\n",
       "      <td>6.317268e-17</td>\n",
       "      <td>0</td>\n",
       "    </tr>\n",
       "    <tr>\n",
       "      <th>3</th>\n",
       "      <td>1.176750</td>\n",
       "      <td>-1.261416</td>\n",
       "      <td>-0.188585</td>\n",
       "      <td>1.028942</td>\n",
       "      <td>-1.064151</td>\n",
       "      <td>0.620332</td>\n",
       "      <td>0.487053</td>\n",
       "      <td>-0.299104</td>\n",
       "      <td>-0.863202</td>\n",
       "      <td>-1.064822</td>\n",
       "      <td>2.939481e-16</td>\n",
       "      <td>-9.930000e-17</td>\n",
       "      <td>-2.200000e-17</td>\n",
       "      <td>-9.180000e-17</td>\n",
       "      <td>-1.950000e-16</td>\n",
       "      <td>1.237234e-16</td>\n",
       "      <td>1.129943e-16</td>\n",
       "      <td>-2.440000e-16</td>\n",
       "      <td>2.019506e-16</td>\n",
       "      <td>0</td>\n",
       "    </tr>\n",
       "    <tr>\n",
       "      <th>4</th>\n",
       "      <td>2.246641</td>\n",
       "      <td>0.796269</td>\n",
       "      <td>0.619413</td>\n",
       "      <td>0.285606</td>\n",
       "      <td>-0.561902</td>\n",
       "      <td>0.178322</td>\n",
       "      <td>0.582140</td>\n",
       "      <td>-0.603861</td>\n",
       "      <td>-1.574217</td>\n",
       "      <td>1.823022</td>\n",
       "      <td>-3.130000e-16</td>\n",
       "      <td>2.697928e-16</td>\n",
       "      <td>2.969080e-16</td>\n",
       "      <td>-5.930000e-17</td>\n",
       "      <td>-2.530000e-16</td>\n",
       "      <td>-1.800000e-16</td>\n",
       "      <td>1.962610e-16</td>\n",
       "      <td>6.134928e-17</td>\n",
       "      <td>7.661526e-18</td>\n",
       "      <td>0</td>\n",
       "    </tr>\n",
       "  </tbody>\n",
       "</table>\n",
       "</div>"
      ],
      "text/plain": [
       "   LIMIT_BAL       SEX  EDUCATION  MARRIAGE       AGE     PAY_0     PAY_2  \\\n",
       "0   2.429412  0.102476   1.572651 -0.173543 -1.780640  0.252642 -2.595633   \n",
       "1   1.746840  0.877320  -0.770964 -0.219406 -0.949367  2.142983  0.282465   \n",
       "2  -1.542358 -2.015420  -0.317153  0.376522  1.216865  0.542801  0.355154   \n",
       "3   1.176750 -1.261416  -0.188585  1.028942 -1.064151  0.620332  0.487053   \n",
       "4   2.246641  0.796269   0.619413  0.285606 -0.561902  0.178322  0.582140   \n",
       "\n",
       "      PAY_3     PAY_4     PAY_5         PAY_6     BILL_AMT1     BILL_AMT6  \\\n",
       "0 -1.139847 -0.395881 -0.348189 -2.480000e-16  8.639786e-17  4.720693e-18   \n",
       "1  1.051484 -0.843514  0.064914 -4.090000e-17  1.719941e-16 -1.220000e-16   \n",
       "2  0.932195 -1.727748 -0.711480  2.488097e-16 -2.370000e-16  1.822177e-16   \n",
       "3 -0.299104 -0.863202 -1.064822  2.939481e-16 -9.930000e-17 -2.200000e-17   \n",
       "4 -0.603861 -1.574217  1.823022 -3.130000e-16  2.697928e-16  2.969080e-16   \n",
       "\n",
       "       PAY_AMT1      PAY_AMT2      PAY_AMT3      PAY_AMT4      PAY_AMT5  \\\n",
       "0  7.972401e-17  1.860370e-16 -2.530000e-16 -3.590000e-16 -1.610000e-16   \n",
       "1 -2.000000e-16  2.716555e-17 -1.510000e-16  1.962610e-16 -1.610000e-16   \n",
       "2  2.991845e-18 -1.500000e-16 -1.020000e-16 -2.580000e-17  1.723716e-16   \n",
       "3 -9.180000e-17 -1.950000e-16  1.237234e-16  1.129943e-16 -2.440000e-16   \n",
       "4 -5.930000e-17 -2.530000e-16 -1.800000e-16  1.962610e-16  6.134928e-17   \n",
       "\n",
       "       PAY_AMT6  DEFAULT_PAYMENT  \n",
       "0 -4.360000e-16                0  \n",
       "1  3.962396e-16                0  \n",
       "2  6.317268e-17                0  \n",
       "3  2.019506e-16                0  \n",
       "4  7.661526e-18                0  "
      ]
     },
     "execution_count": 26,
     "metadata": {},
     "output_type": "execute_result"
    }
   ],
   "source": [
    "creditt.head()"
   ]
  },
  {
   "cell_type": "code",
   "execution_count": 27,
   "id": "5704e5fa",
   "metadata": {},
   "outputs": [],
   "source": [
    "#creditt['EDUCATION']=np.where(creditt['EDUCATION'] == 6, 4, creditt['EDUCATION'])\n",
    "#creditt['EDUCATION']=np.where(creditt['EDUCATION'] == 0, 4, creditt['EDUCATION'])\n"
   ]
  },
  {
   "cell_type": "code",
   "execution_count": 28,
   "id": "2c314d79",
   "metadata": {},
   "outputs": [],
   "source": [
    "#['MARRIAGE']=np.where(creditt['MARRIAGE'] == 0, 3, creditt['MARRIAGE'])"
   ]
  },
  {
   "cell_type": "code",
   "execution_count": 29,
   "id": "3a5e0728",
   "metadata": {},
   "outputs": [],
   "source": [
    "#creditt['MARRIAGE'].unique()"
   ]
  },
  {
   "cell_type": "code",
   "execution_count": 30,
   "id": "80b4615d",
   "metadata": {},
   "outputs": [],
   "source": [
    "#plotting categorical variable\n",
    "#categorical_features = ['SEX', 'EDUCATION', 'MARRIAGE']"
   ]
  },
  {
   "cell_type": "code",
   "execution_count": 31,
   "id": "cedaa14a",
   "metadata": {},
   "outputs": [],
   "source": [
    "#creditt_cat = creditt[categorical_features]\n",
    "#creditt_cat['DEFAULT_PAYMENT'] = creditt['DEFAULT_PAYMENT']"
   ]
  },
  {
   "cell_type": "code",
   "execution_count": 32,
   "id": "94eb3575",
   "metadata": {},
   "outputs": [],
   "source": [
    "from sklearn.datasets import make_classification"
   ]
  },
  {
   "cell_type": "code",
   "execution_count": 33,
   "id": "c1a2211c",
   "metadata": {},
   "outputs": [],
   "source": [
    "from sklearn.decomposition import PCA"
   ]
  },
  {
   "cell_type": "code",
   "execution_count": 34,
   "id": "ece438e1",
   "metadata": {},
   "outputs": [],
   "source": [
    "X, y = make_classification(n_samples=48000, n_features=20, n_informative=2, n_redundant=10,\n",
    "                           n_clusters_per_class=1, weights=[0.8, 0.2], flip_y=0, random_state=42)\n"
   ]
  },
  {
   "cell_type": "markdown",
   "id": "d64e4ec2",
   "metadata": {},
   "source": [
    "# Regenerated Learning of Xgboost"
   ]
  },
  {
   "cell_type": "code",
   "execution_count": 35,
   "id": "6156e5e2",
   "metadata": {},
   "outputs": [
    {
     "name": "stdout",
     "output_type": "stream",
     "text": [
      "Requirement already satisfied: xgboost in c:\\users\\shedu\\anaconda3\\lib\\site-packages (2.1.1)\n",
      "Requirement already satisfied: scikit-learn in c:\\users\\shedu\\anaconda3\\lib\\site-packages (1.5.1)\n",
      "Requirement already satisfied: numpy in c:\\users\\shedu\\anaconda3\\lib\\site-packages (from xgboost) (1.26.4)\n",
      "Requirement already satisfied: scipy in c:\\users\\shedu\\anaconda3\\lib\\site-packages (from xgboost) (1.11.4)\n",
      "Requirement already satisfied: joblib>=1.2.0 in c:\\users\\shedu\\anaconda3\\lib\\site-packages (from scikit-learn) (1.2.0)\n",
      "Requirement already satisfied: threadpoolctl>=3.1.0 in c:\\users\\shedu\\anaconda3\\lib\\site-packages (from scikit-learn) (3.5.0)\n",
      "Note: you may need to restart the kernel to use updated packages.\n"
     ]
    }
   ],
   "source": [
    "pip install xgboost scikit-learn\n"
   ]
  },
  {
   "cell_type": "code",
   "execution_count": 36,
   "id": "c102b662",
   "metadata": {},
   "outputs": [
    {
     "name": "stdout",
     "output_type": "stream",
     "text": [
      "Index(['LIMIT_BAL', 'SEX', 'EDUCATION', 'MARRIAGE', 'AGE', 'PAY_0', 'PAY_2',\n",
      "       'PAY_3', 'PAY_4', 'PAY_5', 'PAY_6', 'BILL_AMT1', 'BILL_AMT6',\n",
      "       'PAY_AMT1', 'PAY_AMT2', 'PAY_AMT3', 'PAY_AMT4', 'PAY_AMT5', 'PAY_AMT6',\n",
      "       'DEFAULT_PAYMENT'],\n",
      "      dtype='object')\n"
     ]
    }
   ],
   "source": [
    "print(creditt.columns)"
   ]
  },
  {
   "cell_type": "code",
   "execution_count": 38,
   "id": "1ddff657",
   "metadata": {
    "scrolled": true
   },
   "outputs": [
    {
     "name": "stdout",
     "output_type": "stream",
     "text": [
      "[0]\ttrain-logloss:0.60073\teval-logloss:0.60109\n",
      "[1]\ttrain-logloss:0.52499\teval-logloss:0.52567\n",
      "[2]\ttrain-logloss:0.46180\teval-logloss:0.46278\n",
      "[3]\ttrain-logloss:0.40836\teval-logloss:0.40964\n",
      "[4]\ttrain-logloss:0.36269\teval-logloss:0.36422\n",
      "[5]\ttrain-logloss:0.32335\teval-logloss:0.32518\n",
      "[6]\ttrain-logloss:0.28927\teval-logloss:0.29128\n",
      "[7]\ttrain-logloss:0.25950\teval-logloss:0.26172\n",
      "[8]\ttrain-logloss:0.23344\teval-logloss:0.23588\n",
      "[9]\ttrain-logloss:0.21050\teval-logloss:0.21318\n",
      "[10]\ttrain-logloss:0.19021\teval-logloss:0.19310\n",
      "[11]\ttrain-logloss:0.17227\teval-logloss:0.17534\n",
      "[12]\ttrain-logloss:0.15632\teval-logloss:0.15958\n",
      "[13]\ttrain-logloss:0.14211\teval-logloss:0.14551\n",
      "[14]\ttrain-logloss:0.12946\teval-logloss:0.13301\n",
      "[15]\ttrain-logloss:0.11816\teval-logloss:0.12188\n",
      "[16]\ttrain-logloss:0.10803\teval-logloss:0.11197\n",
      "[17]\ttrain-logloss:0.09899\teval-logloss:0.10313\n",
      "[18]\ttrain-logloss:0.09090\teval-logloss:0.09516\n",
      "[19]\ttrain-logloss:0.08363\teval-logloss:0.08806\n",
      "[20]\ttrain-logloss:0.07709\teval-logloss:0.08162\n",
      "[21]\ttrain-logloss:0.07107\teval-logloss:0.07580\n",
      "[22]\ttrain-logloss:0.06574\teval-logloss:0.07059\n",
      "[23]\ttrain-logloss:0.06091\teval-logloss:0.06592\n",
      "[24]\ttrain-logloss:0.05655\teval-logloss:0.06173\n",
      "[25]\ttrain-logloss:0.05268\teval-logloss:0.05797\n",
      "[26]\ttrain-logloss:0.04908\teval-logloss:0.05458\n",
      "[27]\ttrain-logloss:0.04582\teval-logloss:0.05153\n",
      "[28]\ttrain-logloss:0.04296\teval-logloss:0.04878\n",
      "[29]\ttrain-logloss:0.04024\teval-logloss:0.04630\n",
      "[30]\ttrain-logloss:0.03782\teval-logloss:0.04408\n",
      "[31]\ttrain-logloss:0.03562\teval-logloss:0.04204\n",
      "[32]\ttrain-logloss:0.03365\teval-logloss:0.04020\n",
      "[33]\ttrain-logloss:0.03182\teval-logloss:0.03847\n",
      "[34]\ttrain-logloss:0.03018\teval-logloss:0.03692\n",
      "[35]\ttrain-logloss:0.02870\teval-logloss:0.03559\n",
      "[36]\ttrain-logloss:0.02737\teval-logloss:0.03436\n",
      "[37]\ttrain-logloss:0.02617\teval-logloss:0.03326\n",
      "[38]\ttrain-logloss:0.02502\teval-logloss:0.03215\n",
      "[39]\ttrain-logloss:0.02405\teval-logloss:0.03124\n",
      "[40]\ttrain-logloss:0.02317\teval-logloss:0.03047\n",
      "[41]\ttrain-logloss:0.02235\teval-logloss:0.02975\n",
      "[42]\ttrain-logloss:0.02161\teval-logloss:0.02906\n",
      "[43]\ttrain-logloss:0.02089\teval-logloss:0.02843\n",
      "[44]\ttrain-logloss:0.02027\teval-logloss:0.02790\n",
      "[45]\ttrain-logloss:0.01961\teval-logloss:0.02727\n",
      "[46]\ttrain-logloss:0.01910\teval-logloss:0.02682\n",
      "[47]\ttrain-logloss:0.01862\teval-logloss:0.02647\n",
      "[48]\ttrain-logloss:0.01811\teval-logloss:0.02597\n",
      "[49]\ttrain-logloss:0.01774\teval-logloss:0.02563\n",
      "[50]\ttrain-logloss:0.01736\teval-logloss:0.02527\n",
      "[51]\ttrain-logloss:0.01699\teval-logloss:0.02491\n",
      "[52]\ttrain-logloss:0.01666\teval-logloss:0.02456\n",
      "[53]\ttrain-logloss:0.01638\teval-logloss:0.02433\n",
      "[54]\ttrain-logloss:0.01610\teval-logloss:0.02405\n",
      "[55]\ttrain-logloss:0.01588\teval-logloss:0.02387\n",
      "[56]\ttrain-logloss:0.01564\teval-logloss:0.02373\n",
      "[57]\ttrain-logloss:0.01544\teval-logloss:0.02358\n",
      "[58]\ttrain-logloss:0.01528\teval-logloss:0.02344\n",
      "[59]\ttrain-logloss:0.01512\teval-logloss:0.02331\n",
      "[60]\ttrain-logloss:0.01494\teval-logloss:0.02316\n",
      "[61]\ttrain-logloss:0.01479\teval-logloss:0.02304\n",
      "[62]\ttrain-logloss:0.01457\teval-logloss:0.02284\n",
      "[63]\ttrain-logloss:0.01439\teval-logloss:0.02263\n",
      "[64]\ttrain-logloss:0.01424\teval-logloss:0.02260\n",
      "[65]\ttrain-logloss:0.01402\teval-logloss:0.02232\n",
      "[66]\ttrain-logloss:0.01390\teval-logloss:0.02224\n",
      "[67]\ttrain-logloss:0.01377\teval-logloss:0.02216\n",
      "[68]\ttrain-logloss:0.01359\teval-logloss:0.02197\n",
      "[69]\ttrain-logloss:0.01348\teval-logloss:0.02193\n",
      "[70]\ttrain-logloss:0.01338\teval-logloss:0.02187\n",
      "[71]\ttrain-logloss:0.01328\teval-logloss:0.02182\n",
      "[72]\ttrain-logloss:0.01312\teval-logloss:0.02166\n",
      "[73]\ttrain-logloss:0.01297\teval-logloss:0.02147\n",
      "[74]\ttrain-logloss:0.01288\teval-logloss:0.02142\n",
      "[75]\ttrain-logloss:0.01274\teval-logloss:0.02130\n",
      "[76]\ttrain-logloss:0.01264\teval-logloss:0.02127\n",
      "[77]\ttrain-logloss:0.01256\teval-logloss:0.02125\n",
      "[78]\ttrain-logloss:0.01246\teval-logloss:0.02114\n",
      "[79]\ttrain-logloss:0.01238\teval-logloss:0.02113\n",
      "[80]\ttrain-logloss:0.01229\teval-logloss:0.02106\n",
      "[81]\ttrain-logloss:0.01222\teval-logloss:0.02101\n",
      "[82]\ttrain-logloss:0.01205\teval-logloss:0.02090\n",
      "[83]\ttrain-logloss:0.01193\teval-logloss:0.02084\n",
      "[84]\ttrain-logloss:0.01182\teval-logloss:0.02073\n",
      "[85]\ttrain-logloss:0.01164\teval-logloss:0.02052\n",
      "[86]\ttrain-logloss:0.01155\teval-logloss:0.02043\n",
      "[87]\ttrain-logloss:0.01139\teval-logloss:0.02028\n",
      "[88]\ttrain-logloss:0.01130\teval-logloss:0.02025\n",
      "[89]\ttrain-logloss:0.01123\teval-logloss:0.02021\n",
      "[90]\ttrain-logloss:0.01106\teval-logloss:0.02014\n",
      "[91]\ttrain-logloss:0.01093\teval-logloss:0.02007\n",
      "[92]\ttrain-logloss:0.01082\teval-logloss:0.02008\n",
      "[93]\ttrain-logloss:0.01077\teval-logloss:0.02007\n",
      "[94]\ttrain-logloss:0.01060\teval-logloss:0.01999\n",
      "[95]\ttrain-logloss:0.01052\teval-logloss:0.01990\n",
      "[96]\ttrain-logloss:0.01039\teval-logloss:0.01985\n",
      "[97]\ttrain-logloss:0.01022\teval-logloss:0.01978\n",
      "[98]\ttrain-logloss:0.01008\teval-logloss:0.01963\n",
      "[99]\ttrain-logloss:0.00988\teval-logloss:0.01946\n",
      "Directory does not exist: C:\\Users\\shedu\\Desktop\n",
      "Model saved to C:\\Users\\shedu\\Desktop\\xgboost_model.joblib\n",
      "Updated Model Accuracy: 0.9934\n",
      "Classification Report:\n",
      "              precision    recall  f1-score   support\n",
      "\n",
      "           0       0.99      0.99      0.99      7754\n",
      "           1       0.99      0.99      0.99      7606\n",
      "\n",
      "    accuracy                           0.99     15360\n",
      "   macro avg       0.99      0.99      0.99     15360\n",
      "weighted avg       0.99      0.99      0.99     15360\n",
      "\n",
      "Confusion Matrix:\n",
      "[[7706   48]\n",
      " [  54 7552]]\n"
     ]
    },
    {
     "data": {
      "image/png": "[encoded data removed]",
      "text/plain": [
       "<Figure size 800x600 with 1 Axes>"
      ]
     },
     "metadata": {},
     "output_type": "display_data"
    }
   ],
   "source": [
    "import pandas as pd\n",
    "import numpy as np\n",
    "import xgboost as xgb\n",
    "from sklearn.model_selection import train_test_split\n",
    "from sklearn.metrics import accuracy_score, classification_report, confusion_matrix\n",
    "import joblib\n",
    "import os\n",
    "\n",
    "\n",
    "# Load original data\n",
    "creditt = pd.read_csv(r\"C:\\Users\\shedu\\Downloads\\clean_creditt.csv\")\n",
    "X = creditt.drop('DEFAULT_PAYMENT', axis=1)\n",
    "y = creditt['DEFAULT_PAYMENT']\n",
    "\n",
    "# Split into training and testing sets\n",
    "X_train, X_test, y_train, y_test = train_test_split(X, y, test_size=0.2, random_state=42)\n",
    "\n",
    "# Create DMatrix\n",
    "dtrain = xgb.DMatrix(X_train, label=y_train)\n",
    "dtest = xgb.DMatrix(X_test, label=y_test)\n",
    "\n",
    "# Define parameters\n",
    "params = {\n",
    "    'objective': 'binary:logistic',\n",
    "    'eval_metric': 'logloss',\n",
    "    'max_depth': 6,\n",
    "    'learning_rate': 0.1,\n",
    "    'n_estimators': 100\n",
    "}\n",
    "\n",
    "\n",
    "evals = [(dtrain, 'train'), (dtest, 'eval')]\n",
    "evals_result = {}\n",
    "\n",
    "\n",
    "model = xgb.train(params, dtrain, num_boost_round=100, evals=evals, evals_result=evals_result)\n",
    "\n",
    "\n",
    "desktop_path = os.path.join(os.path.expanduser(\"~\"), \"Desktop\", \"xgboost_model.joblib\")\n",
    "\n",
    "# Verify and create the directory if necessary\n",
    "if not os.path.exists(os.path.dirname(desktop_path)):\n",
    "    print(f\"Directory does not exist: {os.path.dirname(desktop_path)}\")\n",
    "    # Optionally create the directory (unlikely for desktop)\n",
    "    os.makedirs(os.path.dirname(desktop_path), exist_ok=True)\n",
    "\n",
    "# Save the model using joblib\n",
    "try:\n",
    "    joblib.dump(model, desktop_path)\n",
    "    print(f\"Model saved to {desktop_path}\")\n",
    "except Exception as e:\n",
    "    print(f\"Error saving model: {e}\")\n",
    "\n",
    "\n",
    "new_data = pd.DataFrame(np.random.rand(100, X.shape[1]), columns=X.columns)\n",
    "new_labels = np.random.randint(0, 2, size=100)\n",
    "\n",
    "\n",
    "new_data = new_data.reindex(columns=X.columns)\n",
    "\n",
    "# Create DMatrix for new data\n",
    "new_dtrain = xgb.DMatrix(new_data, label=new_labels)\n",
    "\n",
    "# Update the model with new data\n",
    "updated_model = xgb.train(params, new_dtrain, xgb_model=model, num_boost_round=50)\n",
    "\n",
    "# Predict and evaluate on test set\n",
    "dtest = xgb.DMatrix(X_test)\n",
    "y_pred = updated_model.predict(dtest)\n",
    "y_pred_binary = [1 if p > 0.5 else 0 for p in y_pred]\n",
    "\n",
    "accuracy = accuracy_score(y_test, y_pred_binary)\n",
    "print(f\"Updated Model Accuracy: {accuracy:.4f}\")\n",
    "print(\"Classification Report:\")\n",
    "print(classification_report(y_test, y_pred_binary))\n",
    "print(\"Confusion Matrix:\")\n",
    "print(confusion_matrix(y_test, y_pred_binary))\n",
    "\n",
    "# Calculate the confusion matrix\n",
    "cm = confusion_matrix(y_test, y_pred_binary)\n",
    "\n",
    "# Plotting the confusion matrix using seaborn\n",
    "plt.figure(figsize=(8, 6))\n",
    "sns.heatmap(cm, annot=True, fmt='d', cmap='Blues', cbar=False)\n",
    "plt.xlabel('Predicted Labels')\n",
    "plt.ylabel('True Labels')\n",
    "plt.title('Confusion Matrix')\n",
    "plt.show()"
   ]
  },
  {
   "cell_type": "code",
   "execution_count": 39,
   "id": "37bab321",
   "metadata": {},
   "outputs": [
    {
     "data": {
      "image/png": "[encoded data removed]",
      "text/plain": [
       "<Figure size 1000x600 with 1 Axes>"
      ]
     },
     "metadata": {},
     "output_type": "display_data"
    }
   ],
   "source": [
    "import matplotlib.pyplot as plt\n",
    "\n",
    "if 'train' in evals_result and 'eval' in evals_result:\n",
    "    results = evals_result\n",
    "\n",
    "    # Plot log loss\n",
    "    epochs = len(results['train']['logloss'])\n",
    "\n",
    "    plt.figure(figsize=(10, 6))\n",
    "    plt.plot(range(epochs), results['train']['logloss'], label='Train Log Loss')\n",
    "    plt.plot(range(epochs), results['eval']['logloss'], label='Validation Log Loss')\n",
    "    plt.xlabel('Boosting Rounds')\n",
    "    plt.ylabel('Log Loss')\n",
    "    plt.title('Training and Validation Log Loss')\n",
    "    plt.legend()\n",
    "    plt.show()\n",
    "else:\n",
    "    print(\"No evaluation results available.\")"
   ]
  },
  {
   "cell_type": "code",
   "execution_count": 40,
   "id": "d6c1d51c",
   "metadata": {},
   "outputs": [
    {
     "name": "stdout",
     "output_type": "stream",
     "text": [
      "Original Accuracy: 0.9934\n"
     ]
    }
   ],
   "source": [
    "original_accuracy = accuracy_score(y_test, np.round(y_pred))\n",
    "print(f'Original Accuracy: {original_accuracy:.4f}')"
   ]
  },
  {
   "cell_type": "markdown",
   "id": "60eb19a4",
   "metadata": {},
   "source": [
    "# ROC CURVE"
   ]
  },
  {
   "cell_type": "code",
   "execution_count": 41,
   "id": "adaa680e",
   "metadata": {
    "scrolled": true
   },
   "outputs": [
    {
     "data": {
      "image/png": "[encoded data removed]",
      "text/plain": [
       "<Figure size 800x600 with 1 Axes>"
      ]
     },
     "metadata": {},
     "output_type": "display_data"
    }
   ],
   "source": [
    "y_pred_prob = model.predict(dtest)\n",
    "\n",
    "fpr, tpr, thresholds = roc_curve(y_test, y_pred_prob)\n",
    "\n",
    "# Calculate AUC (Area Under the Curve)\n",
    "roc_auc = auc(fpr, tpr)\n",
    "\n",
    "# Plot the ROC curve\n",
    "plt.figure(figsize=(8, 6))\n",
    "plt.plot(fpr, tpr, color='blue', lw=2, label=f'ROC curve (area = {roc_auc:.2f})')\n",
    "plt.plot([0, 1], [0, 1], color='gray', linestyle='--')  # Diagonal line\n",
    "plt.xlim([0.0, 1.0])\n",
    "plt.ylim([0.0, 1.05])\n",
    "plt.xlabel('False Positive Rate')\n",
    "plt.ylabel('True Positive Rate')\n",
    "plt.title('Receiver Operating Characteristic (ROC) Curve')\n",
    "plt.legend(loc=\"lower right\")\n",
    "plt.show()"
   ]
  },
  {
   "cell_type": "markdown",
   "id": "7e81d81b",
   "metadata": {},
   "source": [
    "# Noise Injection"
   ]
  },
  {
   "cell_type": "code",
   "execution_count": 42,
   "id": "0888f9fd",
   "metadata": {
    "scrolled": true
   },
   "outputs": [
    {
     "name": "stdout",
     "output_type": "stream",
     "text": [
      "Noisy Accuracy: 0.9873\n"
     ]
    },
    {
     "data": {
      "image/png": "[encoded data removed]",
      "text/plain": [
       "<Figure size 1000x600 with 1 Axes>"
      ]
     },
     "metadata": {},
     "output_type": "display_data"
    }
   ],
   "source": [
    "# Introduce noise into the test data\n",
    "def add_noise(X, noise_level=0.01):\n",
    "    noise = np.random.normal(0, noise_level, X.shape)\n",
    "    return X + noise\n",
    "\n",
    "# Create noisy test data\n",
    "X_test_noisy = add_noise(X_test, noise_level=0.05)\n",
    "dtest_noisy = xgb.DMatrix(X_test_noisy, label=y_test)\n",
    "\n",
    "# Make predictions on the noisy test data\n",
    "y_pred_noisy = model.predict(dtest_noisy)\n",
    "noisy_accuracy = accuracy_score(y_test, np.round(y_pred_noisy))\n",
    "print(f'Noisy Accuracy: {noisy_accuracy:.4f}')\n",
    "\n",
    "# Plot results\n",
    "plt.figure(figsize=(10, 6))\n",
    "plt.bar(['Original Accuracy', 'Noisy Accuracy'], [original_accuracy, noisy_accuracy], color=['blue', 'red'])\n",
    "plt.ylabel('Accuracy')\n",
    "plt.title('Model Accuracy on Original vs Noisy Data')\n",
    "plt.show()"
   ]
  },
  {
   "cell_type": "markdown",
   "id": "38bbf7d9",
   "metadata": {},
   "source": [
    "# Feature Importance"
   ]
  },
  {
   "cell_type": "code",
   "execution_count": 43,
   "id": "3b07e50b",
   "metadata": {
    "scrolled": true
   },
   "outputs": [
    {
     "name": "stdout",
     "output_type": "stream",
     "text": [
      "      Feature  Score\n",
      "1         SEX  495.0\n",
      "0   LIMIT_BAL  389.0\n",
      "16   PAY_AMT4  184.0\n",
      "10      PAY_6  166.0\n",
      "5       PAY_0  150.0\n",
      "11  BILL_AMT1  135.0\n",
      "18   PAY_AMT6  131.0\n",
      "3    MARRIAGE  130.0\n",
      "9       PAY_5  128.0\n",
      "7       PAY_3  125.0\n",
      "14   PAY_AMT2  125.0\n",
      "8       PAY_4  119.0\n",
      "4         AGE  115.0\n",
      "13   PAY_AMT1  114.0\n",
      "15   PAY_AMT3  112.0\n",
      "2   EDUCATION  112.0\n",
      "12  BILL_AMT6  108.0\n",
      "6       PAY_2  105.0\n",
      "17   PAY_AMT5   84.0\n"
     ]
    },
    {
     "data": {
      "image/png": "[encoded data removed]",
      "text/plain": [
       "<Figure size 1200x800 with 1 Axes>"
      ]
     },
     "metadata": {},
     "output_type": "display_data"
    }
   ],
   "source": [
    "importance = model.get_score(importance_type='weight') \n",
    "\n",
    "# Convert to DataFrame for easy manipulation\n",
    "importance_df = pd.DataFrame(list(importance.items()), columns=['Feature', 'Score'])\n",
    "importance_df = importance_df.sort_values(by='Score', ascending=False)\n",
    "\n",
    "# Display feature importance scores\n",
    "print(importance_df)\n",
    "\n",
    "# Optional: Plotting the feature importances\n",
    "def plot_feature_importances(importance_df):\n",
    "    plt.figure(figsize=(12, 8))\n",
    "    plt.barh(importance_df['Feature'], importance_df['Score'], color='skyblue')\n",
    "    plt.xlabel('Score')\n",
    "    plt.title('Feature Importances')\n",
    "    plt.gca().invert_yaxis()  # Highest score at the top\n",
    "    plt.show()\n",
    "\n",
    "plot_feature_importances(importance_df)\n",
    "\n"
   ]
  },
  {
   "cell_type": "code",
   "execution_count": null,
   "id": "8aaf67f2",
   "metadata": {},
   "outputs": [],
   "source": []
  }
 ],
 "metadata": {
  "kernelspec": {
   "display_name": "Python 3 (ipykernel)",
   "language": "python",
   "name": "python3"
  },
  "language_info": {
   "codemirror_mode": {
    "name": "ipython",
    "version": 3
   },
   "file_extension": ".py",
   "mimetype": "text/x-python",
   "name": "python",
   "nbconvert_exporter": "python",
   "pygments_lexer": "ipython3",
   "version": "3.11.7"
  }
 },
 "nbformat": 4,
 "nbformat_minor": 5
}
